{
 "cells": [
  {
   "cell_type": "markdown",
   "metadata": {},
   "source": [
    "# Assignment 1: Data Parsing, Cleansing and Integration\n",
    "## Task 3\n",
    "#### Student Name: Harold Davies\n",
    "#### Student ID: 3997902\n",
    "\n",
    "Date: 22/04/2024\n",
    "\n",
    "Version: 1.0\n",
    "\n",
    "Environment: Python 3 and Jupyter notebook\n",
    "\n",
    "Libraries used: \n",
    "* pandas\n",
    "* re\n",
    "* numpy\n",
    "\n",
    "## Introduction\n",
    "This third part of the data parsing, cleaning and integration project involved exploring a second dataset (DS2) to discover how the schema and data varied from that of the first dataset (DS1), making adjustments so that the datasets could be merged, and addressing any issues with the merged dataset before exporting it to csv format. While exploring DS2, it was discovered that it had very similar features, just missing the Id and SourceName columns, but with all columns besides Category having different titles, and many columns' data values were also not consistent with that of DS1. Of particular interest was that the Contract Type column in DS2 corresponded with the ContractTime column in DS1. Some examples of inconsistent data values were Category columns having slight differences in category names such as 'IT Jobs' and 'Information Technology' and DS2 listing salaries per month as opposed to per year. Differences in value names were fixed by mapping value names to the names used in DS1, and at the same time missing values were replaced with 'non-specified', whilst salaries were fixed simply by multiplying those in DS2 by 12. The dates in DS2 were in a slightly different format, so these were adjusted, and an Id column was added to DS2 starting from 10000001 up to 10005000 which doesn't overlap with any of the Ids from DS1. Excluding just the Id and Source columns, no duplicates were found, however an assumption was made that if the open and close dates matched apart from only the day and time, then this is effectively a duplicate, so new columns were added omitting day and time, and 4 duplicates were identified and removed. Finally Id was identified as an appropriate global key and the dataset was exported to a CSV. \n"
   ]
  },
  {
   "cell_type": "markdown",
   "metadata": {},
   "source": [
    "##  Import libraries "
   ]
  },
  {
   "cell_type": "code",
   "execution_count": 214,
   "metadata": {
    "collapsed": true
   },
   "outputs": [],
   "source": [
    "import pandas as pd\n",
    "import numpy as np\n",
    "import re"
   ]
  },
  {
   "cell_type": "markdown",
   "metadata": {},
   "source": [
    "### 1. Loading and Examining Data \n",
    "As we see below, the second dataset only has 9 columns, blah blah blah"
   ]
  },
  {
   "cell_type": "code",
   "execution_count": 215,
   "metadata": {},
   "outputs": [],
   "source": [
    "#save datasets to df variables\n",
    "df2 = pd.read_csv('data_to_integrate.csv')\n",
    "df1 = pd.read_csv('clean_data.csv')"
   ]
  },
  {
   "cell_type": "code",
   "execution_count": 216,
   "metadata": {},
   "outputs": [
    {
     "data": {
      "text/plain": [
       "(5000, 9)"
      ]
     },
     "execution_count": 216,
     "metadata": {},
     "output_type": "execute_result"
    }
   ],
   "source": [
    "df2.shape"
   ]
  },
  {
   "cell_type": "code",
   "execution_count": 217,
   "metadata": {},
   "outputs": [
    {
     "name": "stdout",
     "output_type": "stream",
     "text": [
      "<class 'pandas.core.frame.DataFrame'>\n",
      "RangeIndex: 5000 entries, 0 to 4999\n",
      "Data columns (total 9 columns):\n",
      " #   Column                      Non-Null Count  Dtype  \n",
      "---  ------                      --------------  -----  \n",
      " 0   Job Title                   5000 non-null   object \n",
      " 1   Organisation                4937 non-null   object \n",
      " 2   Monthly Payment             5000 non-null   float64\n",
      " 3   Contract Type               4312 non-null   object \n",
      " 4   Category                    5000 non-null   object \n",
      " 5   Closing                     5000 non-null   object \n",
      " 6   Location                    5000 non-null   object \n",
      " 7   Full-Time Equivalent (FTE)  643 non-null    object \n",
      " 8   Opening                     5000 non-null   object \n",
      "dtypes: float64(1), object(8)\n",
      "memory usage: 351.7+ KB\n"
     ]
    }
   ],
   "source": [
    "df2.info()"
   ]
  },
  {
   "cell_type": "code",
   "execution_count": 218,
   "metadata": {},
   "outputs": [
    {
     "data": {
      "text/html": [
       "<div>\n",
       "<style scoped>\n",
       "    .dataframe tbody tr th:only-of-type {\n",
       "        vertical-align: middle;\n",
       "    }\n",
       "\n",
       "    .dataframe tbody tr th {\n",
       "        vertical-align: top;\n",
       "    }\n",
       "\n",
       "    .dataframe thead th {\n",
       "        text-align: right;\n",
       "    }\n",
       "</style>\n",
       "<table border=\"1\" class=\"dataframe\">\n",
       "  <thead>\n",
       "    <tr style=\"text-align: right;\">\n",
       "      <th></th>\n",
       "      <th>Job Title</th>\n",
       "      <th>Organisation</th>\n",
       "      <th>Monthly Payment</th>\n",
       "      <th>Contract Type</th>\n",
       "      <th>Category</th>\n",
       "      <th>Closing</th>\n",
       "      <th>Location</th>\n",
       "      <th>Full-Time Equivalent (FTE)</th>\n",
       "      <th>Opening</th>\n",
       "    </tr>\n",
       "  </thead>\n",
       "  <tbody>\n",
       "    <tr>\n",
       "      <th>0</th>\n",
       "      <td>Deputy Manager (RGN)  Nursing Home  Bristol</td>\n",
       "      <td>Liquid Personnel Ltd</td>\n",
       "      <td>2791.67</td>\n",
       "      <td>NaN</td>\n",
       "      <td>Healthcare and Nursing</td>\n",
       "      <td>13/01/2013 15:00</td>\n",
       "      <td>Bristol</td>\n",
       "      <td>FULL TIME</td>\n",
       "      <td>14/11/2012 15:00</td>\n",
       "    </tr>\n",
       "    <tr>\n",
       "      <th>1</th>\n",
       "      <td>RGN or RMN  Wigan</td>\n",
       "      <td>Eden Brown</td>\n",
       "      <td>2240.00</td>\n",
       "      <td>NaN</td>\n",
       "      <td>Healthcare and Nursing</td>\n",
       "      <td>24/01/2013 15:00</td>\n",
       "      <td>Wigan</td>\n",
       "      <td>FULL TIME</td>\n",
       "      <td>25/11/2012 15:00</td>\n",
       "    </tr>\n",
       "    <tr>\n",
       "      <th>2</th>\n",
       "      <td>Staff Nurse in Elderly (RGN)  Bromley</td>\n",
       "      <td>Aaron Millar Recruitment</td>\n",
       "      <td>2000.00</td>\n",
       "      <td>NaN</td>\n",
       "      <td>Healthcare and Nursing</td>\n",
       "      <td>1/02/2012 12:00</td>\n",
       "      <td>Bromley</td>\n",
       "      <td>FULL TIME</td>\n",
       "      <td>2/01/2012 12:00</td>\n",
       "    </tr>\n",
       "    <tr>\n",
       "      <th>3</th>\n",
       "      <td>Practice Nurses Band 5  Northallerton</td>\n",
       "      <td>Hays Healthcare</td>\n",
       "      <td>2880.00</td>\n",
       "      <td>NaN</td>\n",
       "      <td>Healthcare and Nursing</td>\n",
       "      <td>21/07/2012 0:00</td>\n",
       "      <td>Northallerton</td>\n",
       "      <td>FULL TIME</td>\n",
       "      <td>22/04/2012 0:00</td>\n",
       "    </tr>\n",
       "    <tr>\n",
       "      <th>4</th>\n",
       "      <td>RGN or RMN  Liverpool</td>\n",
       "      <td>Eden Brown</td>\n",
       "      <td>1996.75</td>\n",
       "      <td>NaN</td>\n",
       "      <td>Healthcare and Nursing</td>\n",
       "      <td>6/04/2013 0:00</td>\n",
       "      <td>Liverpool</td>\n",
       "      <td>FULL TIME</td>\n",
       "      <td>7/03/2013 0:00</td>\n",
       "    </tr>\n",
       "  </tbody>\n",
       "</table>\n",
       "</div>"
      ],
      "text/plain": [
       "                                     Job Title              Organisation  \\\n",
       "0  Deputy Manager (RGN)  Nursing Home  Bristol      Liquid Personnel Ltd   \n",
       "1                            RGN or RMN  Wigan                Eden Brown   \n",
       "2        Staff Nurse in Elderly (RGN)  Bromley  Aaron Millar Recruitment   \n",
       "3        Practice Nurses Band 5  Northallerton           Hays Healthcare   \n",
       "4                        RGN or RMN  Liverpool                Eden Brown   \n",
       "\n",
       "   Monthly Payment Contract Type                Category           Closing  \\\n",
       "0          2791.67           NaN  Healthcare and Nursing  13/01/2013 15:00   \n",
       "1          2240.00           NaN  Healthcare and Nursing  24/01/2013 15:00   \n",
       "2          2000.00           NaN  Healthcare and Nursing   1/02/2012 12:00   \n",
       "3          2880.00           NaN  Healthcare and Nursing   21/07/2012 0:00   \n",
       "4          1996.75           NaN  Healthcare and Nursing    6/04/2013 0:00   \n",
       "\n",
       "        Location Full-Time Equivalent (FTE)           Opening  \n",
       "0        Bristol                  FULL TIME  14/11/2012 15:00  \n",
       "1          Wigan                  FULL TIME  25/11/2012 15:00  \n",
       "2        Bromley                  FULL TIME   2/01/2012 12:00  \n",
       "3  Northallerton                  FULL TIME   22/04/2012 0:00  \n",
       "4      Liverpool                  FULL TIME    7/03/2013 0:00  "
      ]
     },
     "execution_count": 218,
     "metadata": {},
     "output_type": "execute_result"
    }
   ],
   "source": [
    "df2.head()"
   ]
  },
  {
   "cell_type": "code",
   "execution_count": 219,
   "metadata": {},
   "outputs": [
    {
     "data": {
      "text/plain": [
       "Contract Type\n",
       "Permanent              3720\n",
       "Fixed Term Contract     592\n",
       "Name: count, dtype: int64"
      ]
     },
     "execution_count": 219,
     "metadata": {},
     "output_type": "execute_result"
    }
   ],
   "source": [
    "df2['Contract Type'].value_counts()"
   ]
  },
  {
   "cell_type": "code",
   "execution_count": 220,
   "metadata": {},
   "outputs": [
    {
     "data": {
      "text/plain": [
       "Full-Time Equivalent (FTE)\n",
       "FULL TIME    583\n",
       "0.2 FTE       19\n",
       "0.4 FTE       16\n",
       "0.8 FTE       14\n",
       "0.6 FTE       11\n",
       "Name: count, dtype: int64"
      ]
     },
     "execution_count": 220,
     "metadata": {},
     "output_type": "execute_result"
    }
   ],
   "source": [
    "df2['Full-Time Equivalent (FTE)'].value_counts()"
   ]
  },
  {
   "cell_type": "code",
   "execution_count": 221,
   "metadata": {},
   "outputs": [
    {
     "data": {
      "text/plain": [
       "Category\n",
       "Information Technology           1286\n",
       "Engineering                      1066\n",
       "Healthcare and Nursing            655\n",
       "Finance and Accounting            637\n",
       "Sales                             630\n",
       "Hospitality and Catering          275\n",
       "Teaching                          234\n",
       "PR, Advertising and Marketing     217\n",
       "Name: count, dtype: int64"
      ]
     },
     "execution_count": 221,
     "metadata": {},
     "output_type": "execute_result"
    }
   ],
   "source": [
    "df2['Category'].value_counts()"
   ]
  },
  {
   "cell_type": "markdown",
   "metadata": {},
   "source": [
    "### 2. Resolving schema conflicts\n",
    "Conflicts found in two schemas and steps to resolve them:"
   ]
  },
  {
   "cell_type": "markdown",
   "metadata": {},
   "source": [
    "| Id | Dataset 1 Column | Dataset 2 Column | Conflict | Resolutions |\n",
    "|----|------------------|------------------|----------|-------------|\n",
    "| 1  | Id               | NA               | No Id in dataset 2 (DS2)                                | Generate 8-digit unique Ids for DS2                  |\n",
    "| 2  | Title            | Job Title        | Different column headings                               | Change column heading in DS2 to Title                |\n",
    "| 3  | All              | All              | Different column order                                  | Change DS2 column order to match DS1                 |\n",
    "| 4  | Company          | Organisation    | Different column headings                                | Change column heading in DS2 to Title                |\n",
    "| 5  | ContractType     | Contract Type   | Column in DS2 corresponds to ContractTime column in DS1  | Change column heading in DS2 to ContractTime         |\n",
    "| 6  | ContractType     | Full-Time Equivalent (FTE) | Different column headings                     | Change column heading in DS2 to Title                |\n",
    "| 7  | ContractType     | Full-Time Equivalent (FTE) | Different names for full time vs part time    | Change values in DS2 to match those of DS1           |\n",
    "| 8  | ContractTime     | Contract Type   | Different names for permanent vs contract                | Change values in DS2 to match those of DS1           |\n",
    "| 9  | Category         | Category        | Same categories but different names                      | Update category names in DS2 to match those of DS1   |\n",
    "| 10 | Salary           | Monthly Payment | Different column headings                                | Change column heading in DS2 to Title                |\n",
    "| 11 | Salary           | Monthly Payment | Values annual vs monthly                                 | Multiply values in DS2 by 12                         |\n",
    "| 12 | OpenDate         | Opening         | Different column headings                                | Change column heading in DS2 to Title                |\n",
    "| 13 | CloseDate        | Closing         | Different column headings                                | Change column heading in DS2 to Title                |\n",
    "| 14 | SourceName       | NA              | No source name in DS2                                    | Create column in DS2 and populate with non-specified |\n",
    "| 15 | Company               | Organisation            | Missing values                              | Replace missing values with 'non-specified'          |\n",
    "| 16 | ContractType               | Full-Time Equivalent (FTE) | Missing values                      | Replace missing values with 'non-specified' |\n",
    "| 17 | ContractTime               | Contract Type           | Missing values                         | Replace missing values with 'non-specified' |\n",
    "| 18 | OpenDate               | Opening           | Wrong data type                         | Change to datetime format yyyy-mm-dd hh:mm:ss|\n",
    "| 19 | CloseDate               | Closing           | Wrong data type                         | Change to datetime format yyyy-mm-dd hh:mm:ss|"
   ]
  },
  {
   "cell_type": "markdown",
   "metadata": {},
   "source": [
    "#### Conflicts 2, 3, 4, 5, 6, 10, 12, 13 and 14: Column Names and Order\n",
    "These conflicts all relate the inconsistent column names or order between the 2 datasets. All that is required to fix this conflict is to rename the columns in DS2 appropriately, add the missing columns and re-order the columns. I will also fix conflict 14 which is that DS2 (df2) doesn't have a SourceName column by adding that column and populating it with 'non-specified' values."
   ]
  },
  {
   "cell_type": "code",
   "execution_count": 222,
   "metadata": {
    "scrolled": false
   },
   "outputs": [],
   "source": [
    "#rename columns to match df1\n",
    "df2.rename(columns={\n",
    "    'Job Title': 'Title', 'Organisation': 'Company', 'Monthly Payment': 'Salary', 'Contract Type': 'ContractTime',\n",
    "    'Closing': 'CloseDate', 'Full-Time Equivalent (FTE)': 'ContractType', 'Opening': 'OpenDate'\n",
    "}, inplace=True)"
   ]
  },
  {
   "cell_type": "code",
   "execution_count": 223,
   "metadata": {},
   "outputs": [],
   "source": [
    "#add columns to match df1\n",
    "df2['SourceName'], df2['Id'] = 'non-specified', ''"
   ]
  },
  {
   "cell_type": "code",
   "execution_count": 224,
   "metadata": {},
   "outputs": [],
   "source": [
    "#re-order columns to match df1\n",
    "new_order = ['Id', 'Title', 'Location', 'Company', 'ContractType', 'ContractTime', 'Category', 'Salary', 'OpenDate', 'CloseDate', 'SourceName']\n",
    "df2 = df2[new_order]"
   ]
  },
  {
   "cell_type": "markdown",
   "metadata": {},
   "source": [
    "#### Conflict 1: Missing Ids\n",
    "In order to generate ids with consistent formatting, I will use 1 to len(df2) padded with leading 0's to achieve 8 digits length. As the Ids are stored as integers, in order to retain the leading numbers I will start the new ids with 1, so given the shape of df2 the new ids will go from 10000001 to 10005000"
   ]
  },
  {
   "cell_type": "code",
   "execution_count": 225,
   "metadata": {},
   "outputs": [],
   "source": [
    "#generate ids\n",
    "df2['Id'] = range(1, len(df2) + 1)"
   ]
  },
  {
   "cell_type": "code",
   "execution_count": 226,
   "metadata": {},
   "outputs": [
    {
     "data": {
      "text/plain": [
       "Id                int64\n",
       "Title            object\n",
       "Location         object\n",
       "Company          object\n",
       "ContractType     object\n",
       "ContractTime     object\n",
       "Category         object\n",
       "Salary          float64\n",
       "OpenDate         object\n",
       "CloseDate        object\n",
       "SourceName       object\n",
       "dtype: object"
      ]
     },
     "execution_count": 226,
     "metadata": {},
     "output_type": "execute_result"
    }
   ],
   "source": [
    "df2.dtypes"
   ]
  },
  {
   "cell_type": "code",
   "execution_count": 227,
   "metadata": {},
   "outputs": [
    {
     "name": "stdout",
     "output_type": "stream",
     "text": [
      "df1 minimum id is: 12612628 and df2 maximum id is: 10005000\n"
     ]
    }
   ],
   "source": [
    "#check for conflicts\n",
    "print(f\"df1 minimum id is: {df1['Id'].min()} and df2 maximum id is: {df2['Id'].max() + 10000000}\")"
   ]
  },
  {
   "cell_type": "code",
   "execution_count": 228,
   "metadata": {},
   "outputs": [],
   "source": [
    "#pad with 0's\n",
    "df2['Id'] = df2['Id'].apply(lambda x: int(\"1\" + \"0\"*(7-len(str(x))) + str(x)))"
   ]
  },
  {
   "cell_type": "markdown",
   "metadata": {},
   "source": [
    "#### Conflicts 7 & 16: Inconsistent ContractType value names and missing values\n",
    "In order to make df2 consistent with df1 I will re-map the value names for the ContractType column in df2 (previously Full-Time Equivalent (FTE)) from FULL TIME to full_time and from 0.# FTE to part_time. "
   ]
  },
  {
   "cell_type": "code",
   "execution_count": 229,
   "metadata": {},
   "outputs": [
    {
     "data": {
      "text/plain": [
       "ContractType\n",
       "non-specified    37430\n",
       "full_time        11758\n",
       "part_time         1513\n",
       "Name: count, dtype: int64"
      ]
     },
     "execution_count": 229,
     "metadata": {},
     "output_type": "execute_result"
    }
   ],
   "source": [
    "#review values from dataset 1\n",
    "df1['ContractType'].value_counts()"
   ]
  },
  {
   "cell_type": "code",
   "execution_count": 230,
   "metadata": {},
   "outputs": [
    {
     "data": {
      "text/plain": [
       "ContractType\n",
       "FULL TIME    583\n",
       "0.2 FTE       19\n",
       "0.4 FTE       16\n",
       "0.8 FTE       14\n",
       "0.6 FTE       11\n",
       "Name: count, dtype: int64"
      ]
     },
     "execution_count": 230,
     "metadata": {},
     "output_type": "execute_result"
    }
   ],
   "source": [
    "#review values from dataset 2\n",
    "df2['ContractType'].value_counts()"
   ]
  },
  {
   "cell_type": "code",
   "execution_count": 231,
   "metadata": {},
   "outputs": [],
   "source": [
    "#create mapping for new values\n",
    "contract_type_mapping = {'FULL TIME': 'full_time', '0.2 FTE': 'part_time', '0.4 FTE': 'part_time', '0.6 FTE': 'part_time', '0.8 FTE': 'part_time'}\n",
    "#update values and replace missing values with 'non-specified'\n",
    "df2['ContractType'] = df2['ContractType'].map(contract_type_mapping).fillna('non-specified')"
   ]
  },
  {
   "cell_type": "markdown",
   "metadata": {},
   "source": [
    "#### Conflicts 8 & 17: Inconsistent ContractTime value names and missing values\n",
    "In order to make df2 consistent with df1 I will re-map the value names for the ContractTime column in df2 (previously Contract Type) from Permanent to permanent and from Fixed Term Contract to contract. "
   ]
  },
  {
   "cell_type": "code",
   "execution_count": 232,
   "metadata": {},
   "outputs": [
    {
     "data": {
      "text/plain": [
       "ContractTime\n",
       "permanent        30331\n",
       "non-specified    11514\n",
       "contract          5572\n",
       "Name: count, dtype: int64"
      ]
     },
     "execution_count": 232,
     "metadata": {},
     "output_type": "execute_result"
    }
   ],
   "source": [
    "#review values from dataset 1\n",
    "df1['ContractTime'].value_counts()"
   ]
  },
  {
   "cell_type": "code",
   "execution_count": 233,
   "metadata": {},
   "outputs": [
    {
     "data": {
      "text/plain": [
       "ContractTime\n",
       "Permanent              3720\n",
       "Fixed Term Contract     592\n",
       "Name: count, dtype: int64"
      ]
     },
     "execution_count": 233,
     "metadata": {},
     "output_type": "execute_result"
    }
   ],
   "source": [
    "#review values from dataset 2\n",
    "df2['ContractTime'].value_counts()"
   ]
  },
  {
   "cell_type": "code",
   "execution_count": 234,
   "metadata": {},
   "outputs": [],
   "source": [
    "#create mapping for new values\n",
    "contract_type_mapping = {'Permanent': 'permanent', 'Fixed Term Contract': 'contract'}\n",
    "#update values and replace missing values with 'non-specified'\n",
    "df2['ContractTime'] = df2['ContractTime'].map(contract_type_mapping).fillna('non-specified')"
   ]
  },
  {
   "cell_type": "markdown",
   "metadata": {},
   "source": [
    "#### Conflict 9: Inconsistent Category value names\n",
    "In order to make df2 consistent with df1 I will re-map the value names for the Category column in df2. "
   ]
  },
  {
   "cell_type": "code",
   "execution_count": 235,
   "metadata": {},
   "outputs": [
    {
     "data": {
      "text/plain": [
       "Category\n",
       "IT Jobs                             13122\n",
       "Healthcare & Nursing Jobs            8185\n",
       "Engineering Jobs                     7199\n",
       "Accounting & Finance Jobs            6808\n",
       "Sales Jobs                           4747\n",
       "Hospitality & Catering Jobs          4530\n",
       "Teaching Jobs                        3558\n",
       "PR, Advertising & Marketing Jobs     2552\n",
       "Name: count, dtype: int64"
      ]
     },
     "execution_count": 235,
     "metadata": {},
     "output_type": "execute_result"
    }
   ],
   "source": [
    "#review values from dataset 1\n",
    "df1['Category'].value_counts()"
   ]
  },
  {
   "cell_type": "code",
   "execution_count": 236,
   "metadata": {},
   "outputs": [
    {
     "data": {
      "text/plain": [
       "Category\n",
       "Information Technology           1286\n",
       "Engineering                      1066\n",
       "Healthcare and Nursing            655\n",
       "Finance and Accounting            637\n",
       "Sales                             630\n",
       "Hospitality and Catering          275\n",
       "Teaching                          234\n",
       "PR, Advertising and Marketing     217\n",
       "Name: count, dtype: int64"
      ]
     },
     "execution_count": 236,
     "metadata": {},
     "output_type": "execute_result"
    }
   ],
   "source": [
    "#review values from dataset 2\n",
    "df2['Category'].value_counts()"
   ]
  },
  {
   "cell_type": "code",
   "execution_count": 237,
   "metadata": {},
   "outputs": [],
   "source": [
    "#create mapping for new values\n",
    "contract_type_mapping = {\n",
    "    'Information Technology': 'IT Jobs',\n",
    "    'Engineering': 'Engineering Jobs',\n",
    "    'Healthcare and Nursing': 'Healthcare & Nursing Jobs',\n",
    "    'Finance and Accounting': 'Accounting & Finance Jobs',\n",
    "    'Sales': 'Sales Jobs',\n",
    "    'Hospitality and Catering': 'Hospitality & Catering Jobs',\n",
    "    'Teaching': 'Teaching Jobs',\n",
    "    'PR, Advertising and Marketing': 'PR, Advertising & Marketing Jobs'\n",
    "}\n",
    "#update values and replace missing values with 'non-specified'\n",
    "df2['Category'] = df2['Category'].map(contract_type_mapping)"
   ]
  },
  {
   "cell_type": "markdown",
   "metadata": {},
   "source": [
    "#### Conflict 11: Annual Vs Months Salaries\n",
    "In order to make df2 consistent with df1 I will multiple the salaries in df2 by 12 to convert them to an annual salary. "
   ]
  },
  {
   "cell_type": "code",
   "execution_count": 238,
   "metadata": {},
   "outputs": [],
   "source": [
    "df2['Salary'] = round(df2['Salary'] * 12, 2)"
   ]
  },
  {
   "cell_type": "markdown",
   "metadata": {},
   "source": [
    "#### Conflict 15: Missing company values in dataset 2\n",
    "In order to make df2 consistent with df1 I will replace missing values in the Company (previously Organisation) column with 'non-specified' values.  "
   ]
  },
  {
   "cell_type": "code",
   "execution_count": 239,
   "metadata": {},
   "outputs": [],
   "source": [
    "#replace missing values with 'non-specified'\n",
    "df2['Company'] = df2['Company'].fillna('non-specified')"
   ]
  },
  {
   "cell_type": "code",
   "execution_count": 253,
   "metadata": {},
   "outputs": [
    {
     "data": {
      "text/plain": [
       "Company\n",
       "UKStaffsearch                  72\n",
       "non-specified                  63\n",
       "Flame Health Associates LLP    42\n",
       "CHERRY RED RECRUITMENT         39\n",
       "Jobsite Jobs                   37\n",
       "Name: count, dtype: int64"
      ]
     },
     "execution_count": 253,
     "metadata": {},
     "output_type": "execute_result"
    }
   ],
   "source": [
    "#check value counts\n",
    "df2['Company'].value_counts().head()"
   ]
  },
  {
   "cell_type": "markdown",
   "metadata": {},
   "source": [
    "#### Conflict 18 & 19: Wrong date formats\n",
    "In order to make df2 consistent with df1 I will change the format of the dates and times in df2 from objects (strings) to datetime, and then to the desired date-time format.  "
   ]
  },
  {
   "cell_type": "code",
   "execution_count": 241,
   "metadata": {},
   "outputs": [],
   "source": [
    "#convert date columns to date-time\n",
    "df2['OpenDate'] = pd.to_datetime(df2['OpenDate'], format='%d/%m/%Y %H:%M')\n",
    "df2['CloseDate'] = pd.to_datetime(df2['CloseDate'], format='%d/%m/%Y %H:%M')"
   ]
  },
  {
   "cell_type": "markdown",
   "metadata": {},
   "source": [
    "### 3. Merging data\n",
    "\n",
    "Now that the 2 datasets have been modified to make their formatting consistent, they can be combined."
   ]
  },
  {
   "cell_type": "code",
   "execution_count": 244,
   "metadata": {},
   "outputs": [],
   "source": [
    "df_merged = pd.concat([df1, df2], ignore_index=True)"
   ]
  },
  {
   "cell_type": "markdown",
   "metadata": {},
   "source": [
    "### 4. Resolving data conflicts:\n",
    "Most of the data conflicts were resolved above before merging the datasets, however I have not yet addressed duplicate rows. "
   ]
  },
  {
   "cell_type": "markdown",
   "metadata": {},
   "source": [
    "#### Conflict 1: Duplications\n",
    "The biggest challenge in finding duplicate rows was that the exact dates and times of listings were too specific, resulting is rows which were effectively duplicates, having different OpenDate and CloseDate values. To overcome this challenge I created 2 new columns containing just the year and month from OpenDate and CloseDate. I am making the assumption that if 2 job advertisements are the same, apart from the source, and day and time of the opneing and closing of the add, then they are duplicate job adds. Considering that the job title, location, company, contract time, job category, salary and month and year of the open and close date all match, I believe this to be a reasonable assumption. This process identified 4 duplicate rows from the second dateset (non-specified SourceName) which were removed from the merged dataset. "
   ]
  },
  {
   "cell_type": "code",
   "execution_count": 246,
   "metadata": {
    "collapsed": true
   },
   "outputs": [
    {
     "data": {
      "text/html": [
       "<div>\n",
       "<style scoped>\n",
       "    .dataframe tbody tr th:only-of-type {\n",
       "        vertical-align: middle;\n",
       "    }\n",
       "\n",
       "    .dataframe tbody tr th {\n",
       "        vertical-align: top;\n",
       "    }\n",
       "\n",
       "    .dataframe thead th {\n",
       "        text-align: right;\n",
       "    }\n",
       "</style>\n",
       "<table border=\"1\" class=\"dataframe\">\n",
       "  <thead>\n",
       "    <tr style=\"text-align: right;\">\n",
       "      <th></th>\n",
       "      <th>Id</th>\n",
       "      <th>Title</th>\n",
       "      <th>Location</th>\n",
       "      <th>Company</th>\n",
       "      <th>ContractType</th>\n",
       "      <th>ContractTime</th>\n",
       "      <th>Category</th>\n",
       "      <th>Salary</th>\n",
       "      <th>OpenDate</th>\n",
       "      <th>CloseDate</th>\n",
       "      <th>SourceName</th>\n",
       "    </tr>\n",
       "  </thead>\n",
       "  <tbody>\n",
       "  </tbody>\n",
       "</table>\n",
       "</div>"
      ],
      "text/plain": [
       "Empty DataFrame\n",
       "Columns: [Id, Title, Location, Company, ContractType, ContractTime, Category, Salary, OpenDate, CloseDate, SourceName]\n",
       "Index: []"
      ]
     },
     "execution_count": 246,
     "metadata": {},
     "output_type": "execute_result"
    }
   ],
   "source": [
    "#columns to exclude from duplicate search\n",
    "exclude_columns = ['Id', 'SourceName']\n",
    "\n",
    "#duplicates excluding the specified columns\n",
    "duplicate_mask = df_merged.duplicated(subset=[col for col in df_merged.columns if col not in exclude_columns])\n",
    "df_merged[duplicate_mask]"
   ]
  },
  {
   "cell_type": "code",
   "execution_count": 247,
   "metadata": {},
   "outputs": [],
   "source": [
    "#reformat the time-date values back to datetime format for manipulation\n",
    "df_merged['OpenDate'] = pd.to_datetime(df_merged['OpenDate'], format='%Y-%m-%d %H:%M:%S')\n",
    "df_merged['CloseDate'] = pd.to_datetime(df_merged['CloseDate'], format='%Y-%m-%d %H:%M:%S')\n",
    "\n",
    "#create new columns with modified date formats (without day and time)\n",
    "df_merged['OpenDateOnly'] = df_merged['OpenDate'].dt.strftime('%Y-%m')\n",
    "df_merged['CloseDateOnly'] = df_merged['CloseDate'].dt.strftime('%Y-%m')"
   ]
  },
  {
   "cell_type": "code",
   "execution_count": 248,
   "metadata": {},
   "outputs": [
    {
     "data": {
      "text/html": [
       "<div>\n",
       "<style scoped>\n",
       "    .dataframe tbody tr th:only-of-type {\n",
       "        vertical-align: middle;\n",
       "    }\n",
       "\n",
       "    .dataframe tbody tr th {\n",
       "        vertical-align: top;\n",
       "    }\n",
       "\n",
       "    .dataframe thead th {\n",
       "        text-align: right;\n",
       "    }\n",
       "</style>\n",
       "<table border=\"1\" class=\"dataframe\">\n",
       "  <thead>\n",
       "    <tr style=\"text-align: right;\">\n",
       "      <th></th>\n",
       "      <th>Id</th>\n",
       "      <th>Title</th>\n",
       "      <th>Location</th>\n",
       "      <th>Company</th>\n",
       "      <th>ContractType</th>\n",
       "      <th>ContractTime</th>\n",
       "      <th>Category</th>\n",
       "      <th>Salary</th>\n",
       "      <th>OpenDate</th>\n",
       "      <th>CloseDate</th>\n",
       "      <th>SourceName</th>\n",
       "      <th>OpenDateOnly</th>\n",
       "      <th>CloseDateOnly</th>\n",
       "    </tr>\n",
       "  </thead>\n",
       "  <tbody>\n",
       "    <tr>\n",
       "      <th>50752</th>\n",
       "      <td>10000052</td>\n",
       "      <td>IT Infrastructure and Desktop Support</td>\n",
       "      <td>Berkshire</td>\n",
       "      <td>non-specified</td>\n",
       "      <td>non-specified</td>\n",
       "      <td>contract</td>\n",
       "      <td>IT Jobs</td>\n",
       "      <td>38880.0</td>\n",
       "      <td>2013-05-06 12:00:00</td>\n",
       "      <td>2013-05-20 12:00:00</td>\n",
       "      <td>non-specified</td>\n",
       "      <td>2013-05</td>\n",
       "      <td>2013-05</td>\n",
       "    </tr>\n",
       "    <tr>\n",
       "      <th>52385</th>\n",
       "      <td>10001685</td>\n",
       "      <td>Occupational Therapist  Community  Norfolk</td>\n",
       "      <td>King's Lynn</td>\n",
       "      <td>Service Care Solutions Ltd</td>\n",
       "      <td>non-specified</td>\n",
       "      <td>contract</td>\n",
       "      <td>Healthcare &amp; Nursing Jobs</td>\n",
       "      <td>32640.0</td>\n",
       "      <td>2013-03-16 00:00:00</td>\n",
       "      <td>2013-03-30 00:00:00</td>\n",
       "      <td>non-specified</td>\n",
       "      <td>2013-03</td>\n",
       "      <td>2013-03</td>\n",
       "    </tr>\n",
       "    <tr>\n",
       "      <th>52609</th>\n",
       "      <td>10001909</td>\n",
       "      <td>Chef de Partie  ****AA Rosette Restaurant  Str...</td>\n",
       "      <td>Wales</td>\n",
       "      <td>James Webber Recruitment</td>\n",
       "      <td>non-specified</td>\n",
       "      <td>non-specified</td>\n",
       "      <td>Hospitality &amp; Catering Jobs</td>\n",
       "      <td>15360.0</td>\n",
       "      <td>2013-04-14 00:00:00</td>\n",
       "      <td>2013-04-28 00:00:00</td>\n",
       "      <td>non-specified</td>\n",
       "      <td>2013-04</td>\n",
       "      <td>2013-04</td>\n",
       "    </tr>\n",
       "    <tr>\n",
       "      <th>52693</th>\n",
       "      <td>10001993</td>\n",
       "      <td>Supply IT Technical Trainers</td>\n",
       "      <td>UK</td>\n",
       "      <td>Aspire, Achieve, Advance Limited</td>\n",
       "      <td>non-specified</td>\n",
       "      <td>contract</td>\n",
       "      <td>IT Jobs</td>\n",
       "      <td>38400.0</td>\n",
       "      <td>2013-09-04 12:00:00</td>\n",
       "      <td>2013-09-18 12:00:00</td>\n",
       "      <td>non-specified</td>\n",
       "      <td>2013-09</td>\n",
       "      <td>2013-09</td>\n",
       "    </tr>\n",
       "  </tbody>\n",
       "</table>\n",
       "</div>"
      ],
      "text/plain": [
       "             Id                                              Title  \\\n",
       "50752  10000052              IT Infrastructure and Desktop Support   \n",
       "52385  10001685         Occupational Therapist  Community  Norfolk   \n",
       "52609  10001909  Chef de Partie  ****AA Rosette Restaurant  Str...   \n",
       "52693  10001993                       Supply IT Technical Trainers   \n",
       "\n",
       "          Location                           Company   ContractType  \\\n",
       "50752    Berkshire                     non-specified  non-specified   \n",
       "52385  King's Lynn        Service Care Solutions Ltd  non-specified   \n",
       "52609        Wales          James Webber Recruitment  non-specified   \n",
       "52693           UK  Aspire, Achieve, Advance Limited  non-specified   \n",
       "\n",
       "        ContractTime                     Category   Salary  \\\n",
       "50752       contract                      IT Jobs  38880.0   \n",
       "52385       contract    Healthcare & Nursing Jobs  32640.0   \n",
       "52609  non-specified  Hospitality & Catering Jobs  15360.0   \n",
       "52693       contract                      IT Jobs  38400.0   \n",
       "\n",
       "                 OpenDate           CloseDate     SourceName OpenDateOnly  \\\n",
       "50752 2013-05-06 12:00:00 2013-05-20 12:00:00  non-specified      2013-05   \n",
       "52385 2013-03-16 00:00:00 2013-03-30 00:00:00  non-specified      2013-03   \n",
       "52609 2013-04-14 00:00:00 2013-04-28 00:00:00  non-specified      2013-04   \n",
       "52693 2013-09-04 12:00:00 2013-09-18 12:00:00  non-specified      2013-09   \n",
       "\n",
       "      CloseDateOnly  \n",
       "50752       2013-05  \n",
       "52385       2013-03  \n",
       "52609       2013-04  \n",
       "52693       2013-09  "
      ]
     },
     "execution_count": 248,
     "metadata": {},
     "output_type": "execute_result"
    }
   ],
   "source": [
    "#columns to exclude from duplicate search\n",
    "exclude_columns = ['Id', 'SourceName', 'OpenDate', 'CloseDate']\n",
    "\n",
    "# Check for duplicates excluding the specified columns\n",
    "duplicate_mask = df_merged.duplicated(subset=[col for col in df_merged.columns if col not in exclude_columns])\n",
    "df_merged[duplicate_mask]"
   ]
  },
  {
   "cell_type": "markdown",
   "metadata": {},
   "source": [
    "#### Conflict 15: Missing company values in dataset 2\n",
    "In order to make df2 consistent with df1 I will replace missing values in the Company (previously Organisation) column with 'non-specified' values.  "
   ]
  },
  {
   "cell_type": "code",
   "execution_count": 249,
   "metadata": {},
   "outputs": [],
   "source": [
    "#remove duplicate rows\n",
    "indices_to_delete = [50752, 52385, 52609, 52693]\n",
    "df_merged = df_merged.drop(indices_to_delete)\n",
    "#remove ancillary columns\n",
    "df_merged = df_merged.drop(['OpenDateOnly', 'CloseDateOnly'], axis=1)"
   ]
  },
  {
   "cell_type": "markdown",
   "metadata": {},
   "source": [
    "#### Finding global key for the data\n",
    "A proper global key for the integrated data should have only unique values and no missing values. As the Id column served this purpose in the first datset, and in the second dataset, unique Ids were generated which do not overlap with the existing Ids, this column should serve well as a global key. Below I ensure that the values are indeed unique and there are no missing values. "
   ]
  },
  {
   "cell_type": "code",
   "execution_count": 250,
   "metadata": {
    "collapsed": true
   },
   "outputs": [
    {
     "data": {
      "text/plain": [
       "True"
      ]
     },
     "execution_count": 250,
     "metadata": {},
     "output_type": "execute_result"
    }
   ],
   "source": [
    "#Id column contains only unique values (True)\n",
    "df_merged['Id'].is_unique"
   ]
  },
  {
   "cell_type": "code",
   "execution_count": 251,
   "metadata": {},
   "outputs": [
    {
     "data": {
      "text/plain": [
       "False"
      ]
     },
     "execution_count": 251,
     "metadata": {},
     "output_type": "execute_result"
    }
   ],
   "source": [
    "#Id column contains missing values (False)\n",
    "df_merged['Id'].isnull().any()"
   ]
  },
  {
   "cell_type": "markdown",
   "metadata": {},
   "source": [
    "### 5. Saving the integrated and reshaped data\n",
    "Now that the datasets have been successfully integrated and uplicates have been removed, it is time to save the resulting data frame as a csv file."
   ]
  },
  {
   "cell_type": "code",
   "execution_count": 252,
   "metadata": {
    "collapsed": true
   },
   "outputs": [],
   "source": [
    "#export merged csv\n",
    "df_merged.to_csv('final_data.csv', index=False)"
   ]
  },
  {
   "cell_type": "markdown",
   "metadata": {},
   "source": [
    "## Summary of the Assessment Task\n",
    "This third part of the assessment task involved massaging a second dataset into the right shape and form to be consistent with the first, merging the two and fixing data inconsistencies. It was a challenge of conflicts, first finding and fixing the schema conflicts, followed by the data conflicts. Once this was completed, by creating columns which removed days and times from the date columns, four duplicate rows were identified and removed. Finally, the Id column was determined to be a candidate key and the dataset was exported. This dataset would hypothetically be ready for the next phase of a project with a broader scope than this one, such as a data science project. "
   ]
  }
 ],
 "metadata": {
  "kernelspec": {
   "display_name": "Python 3",
   "language": "python",
   "name": "python3"
  },
  "language_info": {
   "codemirror_mode": {
    "name": "ipython",
    "version": 3
   },
   "file_extension": ".py",
   "mimetype": "text/x-python",
   "name": "python",
   "nbconvert_exporter": "python",
   "pygments_lexer": "ipython3",
   "version": "3.8.18"
  }
 },
 "nbformat": 4,
 "nbformat_minor": 1
}
