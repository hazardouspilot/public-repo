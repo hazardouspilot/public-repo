{
 "cells": [
  {
   "cell_type": "markdown",
   "id": "8ed39d78-31c8-4df7-86d9-049eab667b12",
   "metadata": {},
   "source": [
    "# Phase 3 (self directed)\n",
    "## Light GBM & Full Feature Set Experimentation\n",
    "By Harold Davies"
   ]
  },
  {
   "cell_type": "markdown",
   "id": "7aa05f9b",
   "metadata": {},
   "source": [
    "This notebook was created using \"SK8_Light_GBM.ipynb\" from Dr. Akman's github: https://github.com/akmand/ml_tutorials."
   ]
  },
  {
   "cell_type": "code",
   "execution_count": 1,
   "id": "ce18a52d-f2ed-4eb4-a6ff-8617d825acfc",
   "metadata": {},
   "outputs": [],
   "source": [
    "#This notebook was adapted from \"SK8_Light_GBM.ipynb\" from Dr. Akman's github: https://github.com/akmand/ml_tutorials\n",
    "\n",
    "import numpy as np\n",
    "import pandas as pd\n",
    "\n",
    "import warnings\n",
    "warnings.filterwarnings(\"ignore\")\n",
    "\n",
    "np.set_printoptions(suppress=True)\n",
    "pd.set_option('display.float_format', lambda x: '%.2f' % x)\n",
    "pd.set_option('display.max_columns', None)\n",
    "pd.set_option('display.max_rows', None)"
   ]
  },
  {
   "cell_type": "code",
   "execution_count": 2,
   "id": "3318e991-9c66-4d80-a68b-76c9b63d4545",
   "metadata": {},
   "outputs": [],
   "source": [
    "df_raw = pd.read_csv('clean_data.csv')\n",
    "df_raw = df_raw.rename(columns={'churn': 'target'})"
   ]
  },
  {
   "cell_type": "code",
   "execution_count": 3,
   "id": "b15be670-f97e-403f-ab8c-265d2b6735e8",
   "metadata": {},
   "outputs": [
    {
     "data": {
      "text/html": [
       "<div>\n",
       "<style scoped>\n",
       "    .dataframe tbody tr th:only-of-type {\n",
       "        vertical-align: middle;\n",
       "    }\n",
       "\n",
       "    .dataframe tbody tr th {\n",
       "        vertical-align: top;\n",
       "    }\n",
       "\n",
       "    .dataframe thead th {\n",
       "        text-align: right;\n",
       "    }\n",
       "</style>\n",
       "<table border=\"1\" class=\"dataframe\">\n",
       "  <thead>\n",
       "    <tr style=\"text-align: right;\">\n",
       "      <th></th>\n",
       "      <th>account_age</th>\n",
       "      <th>intl_plan</th>\n",
       "      <th>voice_mail_plan</th>\n",
       "      <th>n_voice_mails</th>\n",
       "      <th>n_day_calls</th>\n",
       "      <th>sum_day_charges</th>\n",
       "      <th>n_evening_calls</th>\n",
       "      <th>sum_evening_charges</th>\n",
       "      <th>n_night_calls</th>\n",
       "      <th>sum_night_charges</th>\n",
       "      <th>n_intl_calls</th>\n",
       "      <th>sum_intl_charges</th>\n",
       "      <th>n_customer_service_calls</th>\n",
       "      <th>target</th>\n",
       "    </tr>\n",
       "  </thead>\n",
       "  <tbody>\n",
       "    <tr>\n",
       "      <th>0</th>\n",
       "      <td>128</td>\n",
       "      <td>0</td>\n",
       "      <td>1</td>\n",
       "      <td>25.00</td>\n",
       "      <td>110.00</td>\n",
       "      <td>45.07</td>\n",
       "      <td>99.00</td>\n",
       "      <td>16.78</td>\n",
       "      <td>91.00</td>\n",
       "      <td>11.01</td>\n",
       "      <td>3.00</td>\n",
       "      <td>2.70</td>\n",
       "      <td>1.00</td>\n",
       "      <td>0</td>\n",
       "    </tr>\n",
       "    <tr>\n",
       "      <th>1</th>\n",
       "      <td>107</td>\n",
       "      <td>0</td>\n",
       "      <td>1</td>\n",
       "      <td>26.00</td>\n",
       "      <td>123.00</td>\n",
       "      <td>27.47</td>\n",
       "      <td>103.00</td>\n",
       "      <td>16.62</td>\n",
       "      <td>103.00</td>\n",
       "      <td>11.45</td>\n",
       "      <td>3.00</td>\n",
       "      <td>3.70</td>\n",
       "      <td>1.00</td>\n",
       "      <td>0</td>\n",
       "    </tr>\n",
       "    <tr>\n",
       "      <th>2</th>\n",
       "      <td>137</td>\n",
       "      <td>0</td>\n",
       "      <td>0</td>\n",
       "      <td>0.00</td>\n",
       "      <td>114.00</td>\n",
       "      <td>41.38</td>\n",
       "      <td>110.00</td>\n",
       "      <td>10.30</td>\n",
       "      <td>104.00</td>\n",
       "      <td>7.32</td>\n",
       "      <td>5.00</td>\n",
       "      <td>3.29</td>\n",
       "      <td>0.00</td>\n",
       "      <td>0</td>\n",
       "    </tr>\n",
       "    <tr>\n",
       "      <th>3</th>\n",
       "      <td>84</td>\n",
       "      <td>1</td>\n",
       "      <td>0</td>\n",
       "      <td>0.00</td>\n",
       "      <td>71.00</td>\n",
       "      <td>50.90</td>\n",
       "      <td>88.00</td>\n",
       "      <td>5.26</td>\n",
       "      <td>89.00</td>\n",
       "      <td>8.86</td>\n",
       "      <td>7.00</td>\n",
       "      <td>1.78</td>\n",
       "      <td>2.00</td>\n",
       "      <td>0</td>\n",
       "    </tr>\n",
       "    <tr>\n",
       "      <th>4</th>\n",
       "      <td>75</td>\n",
       "      <td>1</td>\n",
       "      <td>0</td>\n",
       "      <td>0.00</td>\n",
       "      <td>113.00</td>\n",
       "      <td>28.34</td>\n",
       "      <td>122.00</td>\n",
       "      <td>12.61</td>\n",
       "      <td>121.00</td>\n",
       "      <td>8.41</td>\n",
       "      <td>3.00</td>\n",
       "      <td>2.73</td>\n",
       "      <td>3.00</td>\n",
       "      <td>0</td>\n",
       "    </tr>\n",
       "  </tbody>\n",
       "</table>\n",
       "</div>"
      ],
      "text/plain": [
       "   account_age  intl_plan  voice_mail_plan  n_voice_mails  n_day_calls  \\\n",
       "0          128          0                1          25.00       110.00   \n",
       "1          107          0                1          26.00       123.00   \n",
       "2          137          0                0           0.00       114.00   \n",
       "3           84          1                0           0.00        71.00   \n",
       "4           75          1                0           0.00       113.00   \n",
       "\n",
       "   sum_day_charges  n_evening_calls  sum_evening_charges  n_night_calls  \\\n",
       "0            45.07            99.00                16.78          91.00   \n",
       "1            27.47           103.00                16.62         103.00   \n",
       "2            41.38           110.00                10.30         104.00   \n",
       "3            50.90            88.00                 5.26          89.00   \n",
       "4            28.34           122.00                12.61         121.00   \n",
       "\n",
       "   sum_night_charges  n_intl_calls  sum_intl_charges  \\\n",
       "0              11.01          3.00              2.70   \n",
       "1              11.45          3.00              3.70   \n",
       "2               7.32          5.00              3.29   \n",
       "3               8.86          7.00              1.78   \n",
       "4               8.41          3.00              2.73   \n",
       "\n",
       "   n_customer_service_calls  target  \n",
       "0                      1.00       0  \n",
       "1                      1.00       0  \n",
       "2                      0.00       0  \n",
       "3                      2.00       0  \n",
       "4                      3.00       0  "
      ]
     },
     "execution_count": 3,
     "metadata": {},
     "output_type": "execute_result"
    }
   ],
   "source": [
    "df = df_raw.copy()\n",
    "df.head()"
   ]
  },
  {
   "cell_type": "markdown",
   "id": "1e19a946",
   "metadata": {},
   "source": [
    "### Optional Feature Selection"
   ]
  },
  {
   "cell_type": "code",
   "execution_count": 4,
   "id": "7cc33d4f",
   "metadata": {},
   "outputs": [],
   "source": [
    "columns_to_keep = ['sum_day_charges', 'n_customer_service_calls',\n",
    "       'sum_evening_charges', 'intl_plan', 'sum_intl_charges',\n",
    "       'n_intl_calls']"
   ]
  },
  {
   "cell_type": "code",
   "execution_count": 5,
   "id": "9dd99a3a-3281-4d6b-8e45-5720e82263cb",
   "metadata": {},
   "outputs": [],
   "source": [
    "Data = df.drop(columns = 'target').copy()\n",
    "target = np.array(df['target']).reshape(-1, 1)"
   ]
  },
  {
   "cell_type": "code",
   "execution_count": 6,
   "id": "a4554e17-9530-4c7e-900c-5604c324740e",
   "metadata": {},
   "outputs": [
    {
     "data": {
      "text/plain": [
       "account_age                   int64\n",
       "intl_plan                     int64\n",
       "voice_mail_plan               int64\n",
       "n_voice_mails               float64\n",
       "n_day_calls                 float64\n",
       "sum_day_charges             float64\n",
       "n_evening_calls             float64\n",
       "sum_evening_charges         float64\n",
       "n_night_calls               float64\n",
       "sum_night_charges           float64\n",
       "n_intl_calls                float64\n",
       "sum_intl_charges            float64\n",
       "n_customer_service_calls    float64\n",
       "dtype: object"
      ]
     },
     "execution_count": 6,
     "metadata": {},
     "output_type": "execute_result"
    }
   ],
   "source": [
    "Data.dtypes"
   ]
  },
  {
   "cell_type": "markdown",
   "id": "60bffc61-af5f-42f7-98f7-25c8661dc2a8",
   "metadata": {},
   "source": [
    "### Train-Test Split"
   ]
  },
  {
   "cell_type": "code",
   "execution_count": 7,
   "id": "a1f5f3bb-6366-4b89-be00-c2686e5c3bfa",
   "metadata": {},
   "outputs": [
    {
     "name": "stdout",
     "output_type": "stream",
     "text": [
      "Data.shape: (3315, 13)\n",
      "Data_train.shape: (2320, 13)\n",
      "Data_test.shape: (995, 13)\n"
     ]
    }
   ],
   "source": [
    "from sklearn.model_selection import train_test_split\n",
    "\n",
    "Data_train, Data_test, t_train, t_test = train_test_split(Data, \n",
    "                                                    target, \n",
    "                                                    test_size = 0.3, \n",
    "                                                    stratify=target,\n",
    "                                                    random_state=99)\n",
    "print(f\"Data.shape: {Data.shape}\")\n",
    "print(f\"Data_train.shape: {Data_train.shape}\")\n",
    "print(f\"Data_test.shape: {Data_test.shape}\")"
   ]
  },
  {
   "cell_type": "markdown",
   "id": "fcef2c70-fa7d-4250-b025-483bcc1aa4ed",
   "metadata": {},
   "source": [
    "### Utility Function for Printing Results"
   ]
  },
  {
   "cell_type": "code",
   "execution_count": 8,
   "id": "98ba49bc-873e-46f0-9410-8587609a43d9",
   "metadata": {},
   "outputs": [],
   "source": [
    "from sklearn import metrics\n",
    "\n",
    "def print_stats(clf, clf_name, Data_test, t_test, pr_threshold=0.5):\n",
    "    #\n",
    "    t_pred = (clf.predict_proba(Data_test)[:,1] >= pr_threshold).astype(int)\n",
    "    #\n",
    "    print(f\"classifier: {clf_name}\")\n",
    "    print(f\"pr_threshold: {pr_threshold}\")\n",
    "    print(f\"accuracy : {metrics.accuracy_score(t_test, t_pred):.2f}\")\n",
    "    print(f\"recall   : {metrics.recall_score(t_test, t_pred):.2f}\")\n",
    "    print(f\"precision: {metrics.precision_score(t_test, t_pred):.2f}\")\n",
    "    print(f\"f1-score : {metrics.f1_score(t_test, t_pred):.2f}\")\n",
    "    #\n",
    "    # must pass in the proba's to roc_auc_score(), not the predictions!\n",
    "    t_prob = clf.predict_proba(Data_test)\n",
    "    print(f\"roc-auc  : {metrics.roc_auc_score(t_test, t_prob[:,1]):.2f}\")\n",
    "    print(\"-----------\")\n",
    "    print(\"confusion matrix:\")\n",
    "    print(metrics.confusion_matrix(t_test, t_pred))"
   ]
  },
  {
   "cell_type": "markdown",
   "id": "7df93f3f-0b0f-4f55-bc72-2b7c94a703a4",
   "metadata": {},
   "source": [
    "### Fitting LGBM with Defaults Modified"
   ]
  },
  {
   "cell_type": "code",
   "execution_count": 9,
   "id": "b798eaed-d8b8-4925-b433-9be1a597a0e6",
   "metadata": {},
   "outputs": [
    {
     "name": "stdout",
     "output_type": "stream",
     "text": [
      "[LightGBM] [Info] Number of positive: 334, number of negative: 1986\n",
      "[LightGBM] [Info] Auto-choosing row-wise multi-threading, the overhead of testing was 0.001243 seconds.\n",
      "You can set `force_row_wise=true` to remove the overhead.\n",
      "And if memory is not enough, you can set `force_col_wise=true`.\n",
      "[LightGBM] [Info] Total Bins 850\n",
      "[LightGBM] [Info] Number of data points in the train set: 2320, number of used features: 13\n",
      "[LightGBM] [Info] [binary:BoostFromScore]: pavg=0.143966 -> initscore=-1.782737\n",
      "[LightGBM] [Info] Start training from score -1.782737\n",
      "[LightGBM] [Info] Number of positive: 334, number of negative: 1986\n",
      "[LightGBM] [Info] Auto-choosing col-wise multi-threading, the overhead of testing was 0.000103 seconds.\n",
      "You can set `force_col_wise=true` to remove the overhead.\n",
      "[LightGBM] [Info] Total Bins 325\n",
      "[LightGBM] [Info] Number of data points in the train set: 2320, number of used features: 6\n",
      "[LightGBM] [Info] [binary:BoostFromScore]: pavg=0.143966 -> initscore=-1.782737\n",
      "[LightGBM] [Info] Start training from score -1.782737\n",
      "CPU times: total: 984 ms\n",
      "Wall time: 2.72 s\n"
     ]
    },
    {
     "data": {
      "text/html": [
       "<style>#sk-container-id-1 {color: black;}#sk-container-id-1 pre{padding: 0;}#sk-container-id-1 div.sk-toggleable {background-color: white;}#sk-container-id-1 label.sk-toggleable__label {cursor: pointer;display: block;width: 100%;margin-bottom: 0;padding: 0.3em;box-sizing: border-box;text-align: center;}#sk-container-id-1 label.sk-toggleable__label-arrow:before {content: \"▸\";float: left;margin-right: 0.25em;color: #696969;}#sk-container-id-1 label.sk-toggleable__label-arrow:hover:before {color: black;}#sk-container-id-1 div.sk-estimator:hover label.sk-toggleable__label-arrow:before {color: black;}#sk-container-id-1 div.sk-toggleable__content {max-height: 0;max-width: 0;overflow: hidden;text-align: left;background-color: #f0f8ff;}#sk-container-id-1 div.sk-toggleable__content pre {margin: 0.2em;color: black;border-radius: 0.25em;background-color: #f0f8ff;}#sk-container-id-1 input.sk-toggleable__control:checked~div.sk-toggleable__content {max-height: 200px;max-width: 100%;overflow: auto;}#sk-container-id-1 input.sk-toggleable__control:checked~label.sk-toggleable__label-arrow:before {content: \"▾\";}#sk-container-id-1 div.sk-estimator input.sk-toggleable__control:checked~label.sk-toggleable__label {background-color: #d4ebff;}#sk-container-id-1 div.sk-label input.sk-toggleable__control:checked~label.sk-toggleable__label {background-color: #d4ebff;}#sk-container-id-1 input.sk-hidden--visually {border: 0;clip: rect(1px 1px 1px 1px);clip: rect(1px, 1px, 1px, 1px);height: 1px;margin: -1px;overflow: hidden;padding: 0;position: absolute;width: 1px;}#sk-container-id-1 div.sk-estimator {font-family: monospace;background-color: #f0f8ff;border: 1px dotted black;border-radius: 0.25em;box-sizing: border-box;margin-bottom: 0.5em;}#sk-container-id-1 div.sk-estimator:hover {background-color: #d4ebff;}#sk-container-id-1 div.sk-parallel-item::after {content: \"\";width: 100%;border-bottom: 1px solid gray;flex-grow: 1;}#sk-container-id-1 div.sk-label:hover label.sk-toggleable__label {background-color: #d4ebff;}#sk-container-id-1 div.sk-serial::before {content: \"\";position: absolute;border-left: 1px solid gray;box-sizing: border-box;top: 0;bottom: 0;left: 50%;z-index: 0;}#sk-container-id-1 div.sk-serial {display: flex;flex-direction: column;align-items: center;background-color: white;padding-right: 0.2em;padding-left: 0.2em;position: relative;}#sk-container-id-1 div.sk-item {position: relative;z-index: 1;}#sk-container-id-1 div.sk-parallel {display: flex;align-items: stretch;justify-content: center;background-color: white;position: relative;}#sk-container-id-1 div.sk-item::before, #sk-container-id-1 div.sk-parallel-item::before {content: \"\";position: absolute;border-left: 1px solid gray;box-sizing: border-box;top: 0;bottom: 0;left: 50%;z-index: -1;}#sk-container-id-1 div.sk-parallel-item {display: flex;flex-direction: column;z-index: 1;position: relative;background-color: white;}#sk-container-id-1 div.sk-parallel-item:first-child::after {align-self: flex-end;width: 50%;}#sk-container-id-1 div.sk-parallel-item:last-child::after {align-self: flex-start;width: 50%;}#sk-container-id-1 div.sk-parallel-item:only-child::after {width: 0;}#sk-container-id-1 div.sk-dashed-wrapped {border: 1px dashed gray;margin: 0 0.4em 0.5em 0.4em;box-sizing: border-box;padding-bottom: 0.4em;background-color: white;}#sk-container-id-1 div.sk-label label {font-family: monospace;font-weight: bold;display: inline-block;line-height: 1.2em;}#sk-container-id-1 div.sk-label-container {text-align: center;}#sk-container-id-1 div.sk-container {/* jupyter's `normalize.less` sets `[hidden] { display: none; }` but bootstrap.min.css set `[hidden] { display: none !important; }` so we also need the `!important` here to be able to override the default hidden behavior on the sphinx rendered scikit-learn.org. See: https://github.com/scikit-learn/scikit-learn/issues/21755 */display: inline-block !important;position: relative;}#sk-container-id-1 div.sk-text-repr-fallback {display: none;}</style><div id=\"sk-container-id-1\" class=\"sk-top-container\"><div class=\"sk-text-repr-fallback\"><pre>LGBMClassifier(is_unbalance=True, max_bin=100, min_data_in_bin=10,\n",
       "               objective=&#x27;binary&#x27;)</pre><b>In a Jupyter environment, please rerun this cell to show the HTML representation or trust the notebook. <br />On GitHub, the HTML representation is unable to render, please try loading this page with nbviewer.org.</b></div><div class=\"sk-container\" hidden><div class=\"sk-item\"><div class=\"sk-estimator sk-toggleable\"><input class=\"sk-toggleable__control sk-hidden--visually\" id=\"sk-estimator-id-1\" type=\"checkbox\" checked><label for=\"sk-estimator-id-1\" class=\"sk-toggleable__label sk-toggleable__label-arrow\">LGBMClassifier</label><div class=\"sk-toggleable__content\"><pre>LGBMClassifier(is_unbalance=True, max_bin=100, min_data_in_bin=10,\n",
       "               objective=&#x27;binary&#x27;)</pre></div></div></div></div></div>"
      ],
      "text/plain": [
       "LGBMClassifier(is_unbalance=True, max_bin=100, min_data_in_bin=10,\n",
       "               objective='binary')"
      ]
     },
     "execution_count": 9,
     "metadata": {},
     "output_type": "execute_result"
    }
   ],
   "source": [
    "%%time\n",
    "\n",
    "import lightgbm as lgbm\n",
    "\n",
    "clf_name = 'Light GBM'\n",
    "\n",
    "lgbm_params_fixed = {\"objective\": \"binary\",                      \n",
    "                     \"max_bin\": 100, \n",
    "                     \"min_data_in_bin\": 10,\n",
    "                     \"is_unbalance\": True}\n",
    "\n",
    "clf = lgbm.LGBMClassifier(**lgbm_params_fixed)\n",
    "\n",
    "clf.fit(Data_train, t_train);\n",
    "\n",
    "clf_feat_select = lgbm.LGBMClassifier(**lgbm_params_fixed)\n",
    "\n",
    "clf_feat_select.fit(Data_train[columns_to_keep], t_train);"
   ]
  },
  {
   "cell_type": "markdown",
   "id": "f8b361ff-383d-410f-a7e7-963f6a6e255a",
   "metadata": {},
   "source": [
    "### (Untuned) Model Performance on Train Data"
   ]
  },
  {
   "cell_type": "code",
   "execution_count": 10,
   "id": "bb54e934-d7da-40fe-953c-640c6bfaa382",
   "metadata": {},
   "outputs": [
    {
     "name": "stdout",
     "output_type": "stream",
     "text": [
      "Performance on Train Data\n",
      "classifier: Light GBM\n",
      "pr_threshold: 0.5\n",
      "accuracy : 1.00\n",
      "recall   : 1.00\n",
      "precision: 1.00\n",
      "f1-score : 1.00\n",
      "roc-auc  : 1.00\n",
      "-----------\n",
      "confusion matrix:\n",
      "[[1986    0]\n",
      " [   0  334]]\n"
     ]
    }
   ],
   "source": [
    "pr_threshold = 0.5\n",
    "print(\"Performance on Train Data\")\n",
    "print_stats(clf, clf_name, Data_train, t_train, pr_threshold=pr_threshold)"
   ]
  },
  {
   "cell_type": "code",
   "execution_count": 11,
   "id": "ee34555c",
   "metadata": {},
   "outputs": [
    {
     "name": "stdout",
     "output_type": "stream",
     "text": [
      "Performance on Train Data with Feature Selection\n",
      "classifier: Light GBM\n",
      "pr_threshold: 0.5\n",
      "accuracy : 0.99\n",
      "recall   : 1.00\n",
      "precision: 0.96\n",
      "f1-score : 0.98\n",
      "roc-auc  : 1.00\n",
      "-----------\n",
      "confusion matrix:\n",
      "[[1971   15]\n",
      " [   0  334]]\n"
     ]
    }
   ],
   "source": [
    "pr_threshold = 0.5\n",
    "print(\"Performance on Train Data with Feature Selection\")\n",
    "print_stats(clf_feat_select, clf_name, Data_train[columns_to_keep], t_train, pr_threshold=pr_threshold)"
   ]
  },
  {
   "cell_type": "markdown",
   "id": "f1a2da58-526c-4627-9153-2626fc168553",
   "metadata": {},
   "source": [
    "### (Untuned) Model Performance on Test Data"
   ]
  },
  {
   "cell_type": "code",
   "execution_count": 12,
   "id": "1c3137ff-7e1e-4b6a-ba61-c025d536195c",
   "metadata": {},
   "outputs": [
    {
     "name": "stdout",
     "output_type": "stream",
     "text": [
      "Performance on Test Data\n",
      "classifier: Light GBM\n",
      "pr_threshold: 0.5\n",
      "accuracy : 0.95\n",
      "recall   : 0.78\n",
      "precision: 0.85\n",
      "f1-score : 0.81\n",
      "roc-auc  : 0.89\n",
      "-----------\n",
      "confusion matrix:\n",
      "[[832  20]\n",
      " [ 32 111]]\n"
     ]
    }
   ],
   "source": [
    "pr_threshold = 0.5\n",
    "print(\"Performance on Test Data\")\n",
    "print_stats(clf, clf_name, Data_test, t_test, pr_threshold=pr_threshold)"
   ]
  },
  {
   "cell_type": "code",
   "execution_count": 13,
   "id": "b9a6e94d",
   "metadata": {},
   "outputs": [
    {
     "name": "stdout",
     "output_type": "stream",
     "text": [
      "Performance on Test Data with Feature Selection\n",
      "classifier: Light GBM\n",
      "pr_threshold: 0.5\n",
      "accuracy : 0.92\n",
      "recall   : 0.69\n",
      "precision: 0.73\n",
      "f1-score : 0.71\n",
      "roc-auc  : 0.86\n",
      "-----------\n",
      "confusion matrix:\n",
      "[[816  36]\n",
      " [ 44  99]]\n"
     ]
    }
   ],
   "source": [
    "pr_threshold = 0.5\n",
    "print(\"Performance on Test Data with Feature Selection\")\n",
    "print_stats(clf_feat_select, clf_name, Data_test[columns_to_keep], t_test, pr_threshold=pr_threshold)"
   ]
  },
  {
   "cell_type": "markdown",
   "id": "64b5d8cc-2da9-4f81-baf9-e2be1efec72e",
   "metadata": {},
   "source": [
    "## Hyper-parameter Tuning with Optuna <a id='optuna'></a>"
   ]
  },
  {
   "cell_type": "markdown",
   "id": "bcd4eca1-6c4f-4588-8820-404bf1731288",
   "metadata": {
    "tags": []
   },
   "source": [
    "### Defining the Grid and Objective Function\n",
    "We first define an objective function with **cross-validated** log loss as our performance metric for guiding the tuning process. The `LightGBMPruningCallback()` below from Optuna's integration module identifies unpromising hyper-parameter sets beforehand and reduces the search time significantly."
   ]
  },
  {
   "cell_type": "code",
   "execution_count": 14,
   "id": "3a179705-c4da-466c-8cf5-d6597c2583b2",
   "metadata": {},
   "outputs": [],
   "source": [
    "# ! pip install optuna\n",
    "# ! pip install optuna-integration\n",
    "\n",
    "import optuna  \n",
    "from sklearn.metrics import log_loss\n",
    "from sklearn.model_selection import StratifiedKFold\n",
    "from optuna.integration import LightGBMPruningCallback\n",
    "\n",
    "NUM_CV_FOLDS = 10\n",
    "EVAL_METRIC = \"binary_logloss\"\n",
    "\n",
    "def objective_fn(trial, Data, target, lgbm_params_fixed):\n",
    "    \n",
    "    grid_params = {\n",
    "    \"num_iterations\": trial.suggest_int(\"num_iterations\", 50, 80, step=10),\n",
    "    \"learning_rate\": trial.suggest_float(\"learning_rate\", 0.05, 0.3),\n",
    "    \"num_leaves\": trial.suggest_int(\"num_leaves\", 10, 40, step=2),\n",
    "    \"min_child_samples\": trial.suggest_int(\"min_child_samples\", 10, 50, step=5),\n",
    "    }\n",
    "    \n",
    "    cv = StratifiedKFold(n_splits=NUM_CV_FOLDS, \n",
    "                         shuffle=True, \n",
    "                         random_state=999)\n",
    "    \n",
    "    cv_scores = np.empty(NUM_CV_FOLDS)\n",
    "    \n",
    "    for idx, (train_idx, valid_idx) in enumerate(cv.split(Data, target)):\n",
    "        \n",
    "        Data_train, Data_valid = Data.iloc[train_idx], Data.iloc[valid_idx]\n",
    "        t_train, t_valid = target[train_idx], target[valid_idx]\n",
    "\n",
    "        model = lgbm.LGBMClassifier(**lgbm_params_fixed, **grid_params)\n",
    "        \n",
    "        model.fit(\n",
    "            Data_train,\n",
    "            t_train,\n",
    "            eval_set=[(Data_valid, t_valid)],\n",
    "            eval_metric=EVAL_METRIC,\n",
    "            callbacks=[LightGBMPruningCallback(trial, EVAL_METRIC)],\n",
    "        )\n",
    "        \n",
    "        t_pred = model.predict_proba(Data_valid)\n",
    "        cv_scores[idx] = log_loss(t_valid, t_pred)\n",
    "\n",
    "    return np.mean(cv_scores)"
   ]
  },
  {
   "cell_type": "code",
   "execution_count": 15,
   "id": "594a3445-2ca3-42fb-8ad6-07e968c63d42",
   "metadata": {},
   "outputs": [
    {
     "name": "stderr",
     "output_type": "stream",
     "text": [
      "[I 2024-06-24 03:14:19,218] A new study created in memory with name: Light GBM Tuning with TPE\n"
     ]
    }
   ],
   "source": [
    "# tuning with TPE\n",
    "\n",
    "optuna_study = optuna.create_study(direction=\"minimize\", \n",
    "                                   sampler=optuna.samplers.TPESampler(), # default sampler is TPE\n",
    "                                   # sampler=optuna.samplers.RandomSampler(seed=999), # random sampler can also be used                                  \n",
    "                                   study_name=\"Light GBM Tuning with TPE\")"
   ]
  },
  {
   "cell_type": "markdown",
   "id": "54fe89b9-4f93-4150-affc-ad14c8ac0659",
   "metadata": {},
   "source": [
    "### Running the Tuner"
   ]
  },
  {
   "cell_type": "code",
   "execution_count": 16,
   "id": "b5355278-5ecb-4143-b75e-0e4d80893215",
   "metadata": {},
   "outputs": [],
   "source": [
    "TIME_LIMIT = 30  # in seconds\n",
    "NUM_JOBS_TUNING = 3 # for parallel processing\n",
    "\n",
    "optuna.logging.set_verbosity(optuna.logging.WARNING)"
   ]
  },
  {
   "cell_type": "code",
   "execution_count": 17,
   "id": "5f5c66d9-eb11-4306-93e8-1c8621ef0985",
   "metadata": {},
   "outputs": [
    {
     "name": "stdout",
     "output_type": "stream",
     "text": [
      "CPU times: total: 3min 48s\n",
      "Wall time: 31.7 s\n"
     ]
    }
   ],
   "source": [
    "%%time\n",
    "\n",
    "optuna_trial = lambda trial: objective_fn(trial, \n",
    "                                         Data_train, \n",
    "                                         t_train, \n",
    "                                         lgbm_params_fixed)\n",
    "\n",
    "optuna_study.optimize(optuna_trial,\n",
    "                      timeout=TIME_LIMIT,\n",
    "                      n_jobs=NUM_JOBS_TUNING)"
   ]
  },
  {
   "cell_type": "code",
   "execution_count": 18,
   "id": "16588e01-ca53-43eb-9c25-c4d57b69c7dc",
   "metadata": {},
   "outputs": [
    {
     "name": "stdout",
     "output_type": "stream",
     "text": [
      "Best objective function value: 0.16780\n"
     ]
    },
    {
     "data": {
      "text/plain": [
       "{'num_iterations': 80,\n",
       " 'learning_rate': 0.1417387357183339,\n",
       " 'num_leaves': 22,\n",
       " 'min_child_samples': 10}"
      ]
     },
     "execution_count": 18,
     "metadata": {},
     "output_type": "execute_result"
    }
   ],
   "source": [
    "print(f\"Best objective function value: {optuna_study.best_value:.5f}\")\n",
    "optuna_study.best_params"
   ]
  },
  {
   "cell_type": "markdown",
   "id": "ebaa215d-4cb1-403a-ba2b-ca833a67108f",
   "metadata": {},
   "source": [
    "### Viewing the results"
   ]
  },
  {
   "cell_type": "code",
   "execution_count": 19,
   "id": "1cb96e11-9568-4d4b-aded-f2a4ebdfc2d8",
   "metadata": {},
   "outputs": [
    {
     "name": "stdout",
     "output_type": "stream",
     "text": [
      "(105, 10)\n"
     ]
    },
    {
     "data": {
      "text/html": [
       "<div>\n",
       "<style scoped>\n",
       "    .dataframe tbody tr th:only-of-type {\n",
       "        vertical-align: middle;\n",
       "    }\n",
       "\n",
       "    .dataframe tbody tr th {\n",
       "        vertical-align: top;\n",
       "    }\n",
       "\n",
       "    .dataframe thead th {\n",
       "        text-align: right;\n",
       "    }\n",
       "</style>\n",
       "<table border=\"1\" class=\"dataframe\">\n",
       "  <thead>\n",
       "    <tr style=\"text-align: right;\">\n",
       "      <th></th>\n",
       "      <th>number</th>\n",
       "      <th>value</th>\n",
       "      <th>datetime_start</th>\n",
       "      <th>datetime_complete</th>\n",
       "      <th>duration</th>\n",
       "      <th>params_learning_rate</th>\n",
       "      <th>params_min_child_samples</th>\n",
       "      <th>params_num_iterations</th>\n",
       "      <th>params_num_leaves</th>\n",
       "      <th>state</th>\n",
       "    </tr>\n",
       "  </thead>\n",
       "  <tbody>\n",
       "    <tr>\n",
       "      <th>103</th>\n",
       "      <td>103</td>\n",
       "      <td>0.14</td>\n",
       "      <td>2024-06-24 03:14:47.544161</td>\n",
       "      <td>2024-06-24 03:14:47.786473</td>\n",
       "      <td>0 days 00:00:00.242312</td>\n",
       "      <td>0.26</td>\n",
       "      <td>10</td>\n",
       "      <td>50</td>\n",
       "      <td>26</td>\n",
       "      <td>PRUNED</td>\n",
       "    </tr>\n",
       "    <tr>\n",
       "      <th>70</th>\n",
       "      <td>70</td>\n",
       "      <td>0.15</td>\n",
       "      <td>2024-06-24 03:14:40.270918</td>\n",
       "      <td>2024-06-24 03:14:40.649443</td>\n",
       "      <td>0 days 00:00:00.378525</td>\n",
       "      <td>0.27</td>\n",
       "      <td>30</td>\n",
       "      <td>70</td>\n",
       "      <td>38</td>\n",
       "      <td>PRUNED</td>\n",
       "    </tr>\n",
       "    <tr>\n",
       "      <th>9</th>\n",
       "      <td>9</td>\n",
       "      <td>0.15</td>\n",
       "      <td>2024-06-24 03:14:23.159843</td>\n",
       "      <td>2024-06-24 03:14:23.378659</td>\n",
       "      <td>0 days 00:00:00.218816</td>\n",
       "      <td>0.22</td>\n",
       "      <td>25</td>\n",
       "      <td>70</td>\n",
       "      <td>20</td>\n",
       "      <td>PRUNED</td>\n",
       "    </tr>\n",
       "    <tr>\n",
       "      <th>8</th>\n",
       "      <td>8</td>\n",
       "      <td>0.15</td>\n",
       "      <td>2024-06-24 03:14:22.791317</td>\n",
       "      <td>2024-06-24 03:14:23.157819</td>\n",
       "      <td>0 days 00:00:00.366502</td>\n",
       "      <td>0.11</td>\n",
       "      <td>20</td>\n",
       "      <td>80</td>\n",
       "      <td>22</td>\n",
       "      <td>PRUNED</td>\n",
       "    </tr>\n",
       "    <tr>\n",
       "      <th>71</th>\n",
       "      <td>71</td>\n",
       "      <td>0.16</td>\n",
       "      <td>2024-06-24 03:14:40.290686</td>\n",
       "      <td>2024-06-24 03:14:40.593186</td>\n",
       "      <td>0 days 00:00:00.302500</td>\n",
       "      <td>0.27</td>\n",
       "      <td>40</td>\n",
       "      <td>60</td>\n",
       "      <td>38</td>\n",
       "      <td>PRUNED</td>\n",
       "    </tr>\n",
       "  </tbody>\n",
       "</table>\n",
       "</div>"
      ],
      "text/plain": [
       "     number  value             datetime_start          datetime_complete  \\\n",
       "103     103   0.14 2024-06-24 03:14:47.544161 2024-06-24 03:14:47.786473   \n",
       "70       70   0.15 2024-06-24 03:14:40.270918 2024-06-24 03:14:40.649443   \n",
       "9         9   0.15 2024-06-24 03:14:23.159843 2024-06-24 03:14:23.378659   \n",
       "8         8   0.15 2024-06-24 03:14:22.791317 2024-06-24 03:14:23.157819   \n",
       "71       71   0.16 2024-06-24 03:14:40.290686 2024-06-24 03:14:40.593186   \n",
       "\n",
       "                  duration  params_learning_rate  params_min_child_samples  \\\n",
       "103 0 days 00:00:00.242312                  0.26                        10   \n",
       "70  0 days 00:00:00.378525                  0.27                        30   \n",
       "9   0 days 00:00:00.218816                  0.22                        25   \n",
       "8   0 days 00:00:00.366502                  0.11                        20   \n",
       "71  0 days 00:00:00.302500                  0.27                        40   \n",
       "\n",
       "     params_num_iterations  params_num_leaves   state  \n",
       "103                     50                 26  PRUNED  \n",
       "70                      70                 38  PRUNED  \n",
       "9                       70                 20  PRUNED  \n",
       "8                       80                 22  PRUNED  \n",
       "71                      60                 38  PRUNED  "
      ]
     },
     "execution_count": 19,
     "metadata": {},
     "output_type": "execute_result"
    }
   ],
   "source": [
    "df_tuning_results = optuna_study.trials_dataframe().sort_values(by=['value'])\n",
    "print(df_tuning_results.shape)\n",
    "df_tuning_results.head(5)"
   ]
  },
  {
   "cell_type": "markdown",
   "id": "49be8d4d-7d72-4561-a344-3ae2614d9e20",
   "metadata": {},
   "source": [
    "### Optimisation Hot Start"
   ]
  },
  {
   "cell_type": "code",
   "execution_count": 20,
   "id": "6f041895-46fd-4eee-9883-c7ee25c1a741",
   "metadata": {},
   "outputs": [
    {
     "name": "stdout",
     "output_type": "stream",
     "text": [
      "CPU times: total: 3min 51s\n",
      "Wall time: 31 s\n"
     ]
    }
   ],
   "source": [
    "%%time\n",
    "\n",
    "# second round of optimisation\n",
    "optuna_study.optimize(optuna_trial, \n",
    "                      timeout=TIME_LIMIT,\n",
    "                      n_jobs=NUM_JOBS_TUNING)"
   ]
  },
  {
   "cell_type": "code",
   "execution_count": 21,
   "id": "7f370018-c328-40b9-a68e-0e4b3f3bfd79",
   "metadata": {},
   "outputs": [
    {
     "name": "stdout",
     "output_type": "stream",
     "text": [
      "Second round best objective function value: 0.16780\n"
     ]
    },
    {
     "data": {
      "text/plain": [
       "{'num_iterations': 80,\n",
       " 'learning_rate': 0.1417387357183339,\n",
       " 'num_leaves': 22,\n",
       " 'min_child_samples': 10}"
      ]
     },
     "execution_count": 21,
     "metadata": {},
     "output_type": "execute_result"
    }
   ],
   "source": [
    "print(f\"Second round best objective function value: {optuna_study.best_value:.5f}\")\n",
    "\n",
    "optuna_study.best_params"
   ]
  },
  {
   "cell_type": "markdown",
   "id": "f81430de-f41e-4531-876c-9b33af0bbe43",
   "metadata": {},
   "source": [
    "## Evaluation & Visualisation of Results <a id='vis'></a>"
   ]
  },
  {
   "cell_type": "markdown",
   "id": "44172cb7-7d77-4228-a3f6-051ad274e5e4",
   "metadata": {},
   "source": [
    "### Evaluation of the Model with Tuned Parameters"
   ]
  },
  {
   "cell_type": "code",
   "execution_count": 22,
   "id": "72537886-7c35-40ec-8a4a-88c19b8ac836",
   "metadata": {},
   "outputs": [
    {
     "name": "stdout",
     "output_type": "stream",
     "text": [
      "[LightGBM] [Info] Number of positive: 334, number of negative: 1986\n",
      "[LightGBM] [Info] Auto-choosing col-wise multi-threading, the overhead of testing was 0.000283 seconds.\n",
      "You can set `force_col_wise=true` to remove the overhead.\n",
      "[LightGBM] [Info] Total Bins 850\n",
      "[LightGBM] [Info] Number of data points in the train set: 2320, number of used features: 13\n",
      "[LightGBM] [Info] [binary:BoostFromScore]: pavg=0.143966 -> initscore=-1.782737\n",
      "[LightGBM] [Info] Start training from score -1.782737\n"
     ]
    }
   ],
   "source": [
    "clf_name = 'Light GBM'\n",
    "\n",
    "lgbm_params_tuned = optuna_study.best_params\n",
    "\n",
    "clf_tuned = lgbm.LGBMClassifier(**lgbm_params_fixed, **lgbm_params_tuned)\n",
    "\n",
    "clf_tuned.fit(Data_train, t_train);"
   ]
  },
  {
   "cell_type": "markdown",
   "id": "47935d43-37bf-4b61-be16-2fd982db39fd",
   "metadata": {},
   "source": [
    "### Tuned Model Performance on Train Data"
   ]
  },
  {
   "cell_type": "code",
   "execution_count": 23,
   "id": "2d97316b-2cff-490e-a9f9-c9c4903a171c",
   "metadata": {},
   "outputs": [
    {
     "name": "stdout",
     "output_type": "stream",
     "text": [
      "Performance on Train Data\n",
      "classifier: Light GBM\n",
      "pr_threshold: 0.5\n",
      "accuracy : 1.00\n",
      "recall   : 1.00\n",
      "precision: 1.00\n",
      "f1-score : 1.00\n",
      "roc-auc  : 1.00\n",
      "-----------\n",
      "confusion matrix:\n",
      "[[1986    0]\n",
      " [   0  334]]\n"
     ]
    }
   ],
   "source": [
    "pr_threshold = 0.5\n",
    "print(\"Performance on Train Data\")\n",
    "print_stats(clf_tuned, clf_name, Data_train, t_train, pr_threshold=pr_threshold)"
   ]
  },
  {
   "cell_type": "markdown",
   "id": "0e1951a9-ee63-4891-bdf3-359f05215743",
   "metadata": {},
   "source": [
    "### Tuned Model Performance on Test Data"
   ]
  },
  {
   "cell_type": "code",
   "execution_count": 24,
   "id": "174610ca-80c6-4e57-9980-5b82d8a1b0ca",
   "metadata": {},
   "outputs": [
    {
     "name": "stdout",
     "output_type": "stream",
     "text": [
      "Performance on Test Data\n",
      "classifier: Light GBM\n",
      "pr_threshold: 0.5\n",
      "accuracy : 0.95\n",
      "recall   : 0.79\n",
      "precision: 0.87\n",
      "f1-score : 0.83\n",
      "roc-auc  : 0.89\n",
      "-----------\n",
      "confusion matrix:\n",
      "[[835  17]\n",
      " [ 30 113]]\n"
     ]
    }
   ],
   "source": [
    "pr_threshold = 0.5\n",
    "print(\"Performance on Test Data\")\n",
    "print_stats(clf_tuned, clf_name, Data_test, t_test, pr_threshold=pr_threshold)"
   ]
  },
  {
   "cell_type": "markdown",
   "id": "67be2c50-f3c3-4e3e-be13-0010140221b9",
   "metadata": {},
   "source": [
    "### Visualisation of Model Feature Importances"
   ]
  },
  {
   "cell_type": "code",
   "execution_count": 25,
   "id": "f37b194c-b1a9-498c-800b-60a63c49393a",
   "metadata": {},
   "outputs": [
    {
     "data": {
      "image/png": "[encoded data removed]",
      "text/plain": [
       "<Figure size 800x670 with 1 Axes>"
      ]
     },
     "metadata": {
      "image/png": {
       "height": 658,
       "width": 789
      }
     },
     "output_type": "display_data"
    }
   ],
   "source": [
    "import matplotlib.pyplot as plt\n",
    "import seaborn as sns\n",
    "import shap \n",
    "\n",
    "%matplotlib inline \n",
    "%config InlineBackend.figure_format = 'retina'\n",
    "\n",
    "plt.style.use(\"seaborn\")\n",
    "\n",
    "plt.rcParams[\"figure.figsize\"] = (10,6)\n",
    "\n",
    "explainer = shap.TreeExplainer(clf) \n",
    "shap_values = explainer.shap_values(Data_train) \n",
    "shap.summary_plot(shap_values, Data_train) "
   ]
  },
  {
   "cell_type": "markdown",
   "id": "ff3ea9ca-3510-48f8-9753-463dd93d1759",
   "metadata": {},
   "source": [
    "### Visualisation of Tuning Progress"
   ]
  },
  {
   "cell_type": "code",
   "execution_count": 26,
   "id": "eff2c43f-d5af-48d5-ac81-3311483ada49",
   "metadata": {},
   "outputs": [
    {
     "data": {
      "application/vnd.plotly.v1+json": {
       "config": {
        "plotlyServerURL": "https://plot.ly"
       },
       "data": [
        {
         "mode": "markers",
         "name": "Objective Value",
         "type": "scatter",
         "x": [
          0,
          1,
          2,
          3,
          4,
          5,
          6,
          10,
          11,
          13,
          14,
          15,
          16,
          22,
          25,
          26,
          34,
          45,
          52,
          73,
          75,
          76,
          77,
          84,
          85,
          98,
          101,
          104,
          113,
          115,
          116,
          117,
          125,
          126,
          143,
          144,
          146,
          147,
          148,
          152,
          153,
          158,
          183,
          184,
          185,
          186,
          203,
          205,
          212,
          215,
          219,
          221,
          223,
          226
         ],
         "y": [
          0.1953567348754895,
          0.21522184492641155,
          0.2330394204542568,
          0.19086110299057119,
          0.18414427162527583,
          0.2241462610086115,
          0.23070077204465084,
          0.16779685283487428,
          0.1689748033574714,
          0.23402080210735923,
          0.26646295548415905,
          0.1820194566152175,
          0.17194338694362096,
          0.2473454467476161,
          0.17925794208867527,
          0.19376893439052362,
          0.1863563707034494,
          0.1717556165733392,
          0.18446815225840574,
          0.21779854127482565,
          0.201980242446601,
          0.17721498146168319,
          0.18831862288380435,
          0.1857616146462912,
          0.18498284475538396,
          0.23248176503671023,
          0.18360945470159215,
          0.18969004781782414,
          0.18451054298296893,
          0.18553070025562252,
          0.18627384538103797,
          0.18917304831377366,
          0.1808456725573015,
          0.18947442289749739,
          0.18489347385773627,
          0.18310241211920458,
          0.1839247922112258,
          0.19493708278240038,
          0.19006780422144154,
          0.24735980547991251,
          0.2240119712657262,
          0.192708489839652,
          0.19641917124954122,
          0.18732557098291666,
          0.19206539595429156,
          0.18720102674709974,
          0.18508528648429876,
          0.18733409873436158,
          0.2185671228963335,
          0.19055440115505398,
          0.181903372217937,
          0.18995209465549381,
          0.18768203827656763,
          0.19623638844016214
         ]
        },
        {
         "mode": "lines",
         "name": "Best Value",
         "type": "scatter",
         "x": [
          0,
          1,
          2,
          3,
          4,
          5,
          6,
          7,
          8,
          9,
          10,
          11,
          12,
          13,
          14,
          15,
          16,
          17,
          18,
          19,
          20,
          21,
          22,
          23,
          24,
          25,
          26,
          27,
          28,
          29,
          30,
          31,
          32,
          33,
          34,
          35,
          36,
          37,
          38,
          39,
          40,
          41,
          42,
          43,
          44,
          45,
          46,
          47,
          48,
          49,
          50,
          51,
          52,
          53,
          54,
          55,
          56,
          57,
          58,
          59,
          60,
          61,
          62,
          63,
          64,
          65,
          66,
          67,
          68,
          69,
          70,
          71,
          72,
          73,
          74,
          75,
          76,
          77,
          78,
          79,
          80,
          81,
          82,
          83,
          84,
          85,
          86,
          87,
          88,
          89,
          90,
          91,
          92,
          93,
          94,
          95,
          96,
          97,
          98,
          99,
          100,
          101,
          102,
          103,
          104,
          105,
          106,
          107,
          108,
          109,
          110,
          111,
          112,
          113,
          114,
          115,
          116,
          117,
          118,
          119,
          120,
          121,
          122,
          123,
          124,
          125,
          126,
          127,
          128,
          129,
          130,
          131,
          132,
          133,
          134,
          135,
          136,
          137,
          138,
          139,
          140,
          141,
          142,
          143,
          144,
          145,
          146,
          147,
          148,
          149,
          150,
          151,
          152,
          153,
          154,
          155,
          156,
          157,
          158,
          159,
          160,
          161,
          162,
          163,
          164,
          165,
          166,
          167,
          168,
          169,
          170,
          171,
          172,
          173,
          174,
          175,
          176,
          177,
          178,
          179,
          180,
          181,
          182,
          183,
          184,
          185,
          186,
          187,
          188,
          189,
          190,
          191,
          192,
          193,
          194,
          195,
          196,
          197,
          198,
          199,
          200,
          201,
          202,
          203,
          204,
          205,
          206,
          207,
          208,
          209,
          210,
          211,
          212,
          213,
          214,
          215,
          216,
          217,
          218,
          219,
          220,
          221,
          222,
          223,
          224,
          225,
          226
         ],
         "y": [
          0.1953567348754895,
          0.1953567348754895,
          0.1953567348754895,
          0.19086110299057119,
          0.18414427162527583,
          0.18414427162527583,
          0.18414427162527583,
          0.18414427162527583,
          0.18414427162527583,
          0.18414427162527583,
          0.16779685283487428,
          0.16779685283487428,
          0.16779685283487428,
          0.16779685283487428,
          0.16779685283487428,
          0.16779685283487428,
          0.16779685283487428,
          0.16779685283487428,
          0.16779685283487428,
          0.16779685283487428,
          0.16779685283487428,
          0.16779685283487428,
          0.16779685283487428,
          0.16779685283487428,
          0.16779685283487428,
          0.16779685283487428,
          0.16779685283487428,
          0.16779685283487428,
          0.16779685283487428,
          0.16779685283487428,
          0.16779685283487428,
          0.16779685283487428,
          0.16779685283487428,
          0.16779685283487428,
          0.16779685283487428,
          0.16779685283487428,
          0.16779685283487428,
          0.16779685283487428,
          0.16779685283487428,
          0.16779685283487428,
          0.16779685283487428,
          0.16779685283487428,
          0.16779685283487428,
          0.16779685283487428,
          0.16779685283487428,
          0.16779685283487428,
          0.16779685283487428,
          0.16779685283487428,
          0.16779685283487428,
          0.16779685283487428,
          0.16779685283487428,
          0.16779685283487428,
          0.16779685283487428,
          0.16779685283487428,
          0.16779685283487428,
          0.16779685283487428,
          0.16779685283487428,
          0.16779685283487428,
          0.16779685283487428,
          0.16779685283487428,
          0.16779685283487428,
          0.16779685283487428,
          0.16779685283487428,
          0.16779685283487428,
          0.16779685283487428,
          0.16779685283487428,
          0.16779685283487428,
          0.16779685283487428,
          0.16779685283487428,
          0.16779685283487428,
          0.16779685283487428,
          0.16779685283487428,
          0.16779685283487428,
          0.16779685283487428,
          0.16779685283487428,
          0.16779685283487428,
          0.16779685283487428,
          0.16779685283487428,
          0.16779685283487428,
          0.16779685283487428,
          0.16779685283487428,
          0.16779685283487428,
          0.16779685283487428,
          0.16779685283487428,
          0.16779685283487428,
          0.16779685283487428,
          0.16779685283487428,
          0.16779685283487428,
          0.16779685283487428,
          0.16779685283487428,
          0.16779685283487428,
          0.16779685283487428,
          0.16779685283487428,
          0.16779685283487428,
          0.16779685283487428,
          0.16779685283487428,
          0.16779685283487428,
          0.16779685283487428,
          0.16779685283487428,
          0.16779685283487428,
          0.16779685283487428,
          0.16779685283487428,
          0.16779685283487428,
          0.16779685283487428,
          0.16779685283487428,
          0.16779685283487428,
          0.16779685283487428,
          0.16779685283487428,
          0.16779685283487428,
          0.16779685283487428,
          0.16779685283487428,
          0.16779685283487428,
          0.16779685283487428,
          0.16779685283487428,
          0.16779685283487428,
          0.16779685283487428,
          0.16779685283487428,
          0.16779685283487428,
          0.16779685283487428,
          0.16779685283487428,
          0.16779685283487428,
          0.16779685283487428,
          0.16779685283487428,
          0.16779685283487428,
          0.16779685283487428,
          0.16779685283487428,
          0.16779685283487428,
          0.16779685283487428,
          0.16779685283487428,
          0.16779685283487428,
          0.16779685283487428,
          0.16779685283487428,
          0.16779685283487428,
          0.16779685283487428,
          0.16779685283487428,
          0.16779685283487428,
          0.16779685283487428,
          0.16779685283487428,
          0.16779685283487428,
          0.16779685283487428,
          0.16779685283487428,
          0.16779685283487428,
          0.16779685283487428,
          0.16779685283487428,
          0.16779685283487428,
          0.16779685283487428,
          0.16779685283487428,
          0.16779685283487428,
          0.16779685283487428,
          0.16779685283487428,
          0.16779685283487428,
          0.16779685283487428,
          0.16779685283487428,
          0.16779685283487428,
          0.16779685283487428,
          0.16779685283487428,
          0.16779685283487428,
          0.16779685283487428,
          0.16779685283487428,
          0.16779685283487428,
          0.16779685283487428,
          0.16779685283487428,
          0.16779685283487428,
          0.16779685283487428,
          0.16779685283487428,
          0.16779685283487428,
          0.16779685283487428,
          0.16779685283487428,
          0.16779685283487428,
          0.16779685283487428,
          0.16779685283487428,
          0.16779685283487428,
          0.16779685283487428,
          0.16779685283487428,
          0.16779685283487428,
          0.16779685283487428,
          0.16779685283487428,
          0.16779685283487428,
          0.16779685283487428,
          0.16779685283487428,
          0.16779685283487428,
          0.16779685283487428,
          0.16779685283487428,
          0.16779685283487428,
          0.16779685283487428,
          0.16779685283487428,
          0.16779685283487428,
          0.16779685283487428,
          0.16779685283487428,
          0.16779685283487428,
          0.16779685283487428,
          0.16779685283487428,
          0.16779685283487428,
          0.16779685283487428,
          0.16779685283487428,
          0.16779685283487428,
          0.16779685283487428,
          0.16779685283487428,
          0.16779685283487428,
          0.16779685283487428,
          0.16779685283487428,
          0.16779685283487428,
          0.16779685283487428,
          0.16779685283487428,
          0.16779685283487428,
          0.16779685283487428,
          0.16779685283487428,
          0.16779685283487428,
          0.16779685283487428,
          0.16779685283487428,
          0.16779685283487428,
          0.16779685283487428,
          0.16779685283487428,
          0.16779685283487428,
          0.16779685283487428,
          0.16779685283487428,
          0.16779685283487428,
          0.16779685283487428,
          0.16779685283487428,
          0.16779685283487428,
          0.16779685283487428,
          0.16779685283487428,
          0.16779685283487428,
          0.16779685283487428,
          0.16779685283487428,
          0.16779685283487428,
          0.16779685283487428
         ]
        },
        {
         "marker": {
          "color": "#cccccc"
         },
         "mode": "markers",
         "name": "Infeasible Trial",
         "showlegend": false,
         "type": "scatter",
         "x": [],
         "y": []
        }
       ],
       "layout": {
        "template": {
         "data": {
          "bar": [
           {
            "error_x": {
             "color": "#2a3f5f"
            },
            "error_y": {
             "color": "#2a3f5f"
            },
            "marker": {
             "line": {
              "color": "#E5ECF6",
              "width": 0.5
             },
             "pattern": {
              "fillmode": "overlay",
              "size": 10,
              "solidity": 0.2
             }
            },
            "type": "bar"
           }
          ],
          "barpolar": [
           {
            "marker": {
             "line": {
              "color": "#E5ECF6",
              "width": 0.5
             },
             "pattern": {
              "fillmode": "overlay",
              "size": 10,
              "solidity": 0.2
             }
            },
            "type": "barpolar"
           }
          ],
          "carpet": [
           {
            "aaxis": {
             "endlinecolor": "#2a3f5f",
             "gridcolor": "white",
             "linecolor": "white",
             "minorgridcolor": "white",
             "startlinecolor": "#2a3f5f"
            },
            "baxis": {
             "endlinecolor": "#2a3f5f",
             "gridcolor": "white",
             "linecolor": "white",
             "minorgridcolor": "white",
             "startlinecolor": "#2a3f5f"
            },
            "type": "carpet"
           }
          ],
          "choropleth": [
           {
            "colorbar": {
             "outlinewidth": 0,
             "ticks": ""
            },
            "type": "choropleth"
           }
          ],
          "contour": [
           {
            "colorbar": {
             "outlinewidth": 0,
             "ticks": ""
            },
            "colorscale": [
             [
              0,
              "#0d0887"
             ],
             [
              0.1111111111111111,
              "#46039f"
             ],
             [
              0.2222222222222222,
              "#7201a8"
             ],
             [
              0.3333333333333333,
              "#9c179e"
             ],
             [
              0.4444444444444444,
              "#bd3786"
             ],
             [
              0.5555555555555556,
              "#d8576b"
             ],
             [
              0.6666666666666666,
              "#ed7953"
             ],
             [
              0.7777777777777778,
              "#fb9f3a"
             ],
             [
              0.8888888888888888,
              "#fdca26"
             ],
             [
              1,
              "#f0f921"
             ]
            ],
            "type": "contour"
           }
          ],
          "contourcarpet": [
           {
            "colorbar": {
             "outlinewidth": 0,
             "ticks": ""
            },
            "type": "contourcarpet"
           }
          ],
          "heatmap": [
           {
            "colorbar": {
             "outlinewidth": 0,
             "ticks": ""
            },
            "colorscale": [
             [
              0,
              "#0d0887"
             ],
             [
              0.1111111111111111,
              "#46039f"
             ],
             [
              0.2222222222222222,
              "#7201a8"
             ],
             [
              0.3333333333333333,
              "#9c179e"
             ],
             [
              0.4444444444444444,
              "#bd3786"
             ],
             [
              0.5555555555555556,
              "#d8576b"
             ],
             [
              0.6666666666666666,
              "#ed7953"
             ],
             [
              0.7777777777777778,
              "#fb9f3a"
             ],
             [
              0.8888888888888888,
              "#fdca26"
             ],
             [
              1,
              "#f0f921"
             ]
            ],
            "type": "heatmap"
           }
          ],
          "heatmapgl": [
           {
            "colorbar": {
             "outlinewidth": 0,
             "ticks": ""
            },
            "colorscale": [
             [
              0,
              "#0d0887"
             ],
             [
              0.1111111111111111,
              "#46039f"
             ],
             [
              0.2222222222222222,
              "#7201a8"
             ],
             [
              0.3333333333333333,
              "#9c179e"
             ],
             [
              0.4444444444444444,
              "#bd3786"
             ],
             [
              0.5555555555555556,
              "#d8576b"
             ],
             [
              0.6666666666666666,
              "#ed7953"
             ],
             [
              0.7777777777777778,
              "#fb9f3a"
             ],
             [
              0.8888888888888888,
              "#fdca26"
             ],
             [
              1,
              "#f0f921"
             ]
            ],
            "type": "heatmapgl"
           }
          ],
          "histogram": [
           {
            "marker": {
             "pattern": {
              "fillmode": "overlay",
              "size": 10,
              "solidity": 0.2
             }
            },
            "type": "histogram"
           }
          ],
          "histogram2d": [
           {
            "colorbar": {
             "outlinewidth": 0,
             "ticks": ""
            },
            "colorscale": [
             [
              0,
              "#0d0887"
             ],
             [
              0.1111111111111111,
              "#46039f"
             ],
             [
              0.2222222222222222,
              "#7201a8"
             ],
             [
              0.3333333333333333,
              "#9c179e"
             ],
             [
              0.4444444444444444,
              "#bd3786"
             ],
             [
              0.5555555555555556,
              "#d8576b"
             ],
             [
              0.6666666666666666,
              "#ed7953"
             ],
             [
              0.7777777777777778,
              "#fb9f3a"
             ],
             [
              0.8888888888888888,
              "#fdca26"
             ],
             [
              1,
              "#f0f921"
             ]
            ],
            "type": "histogram2d"
           }
          ],
          "histogram2dcontour": [
           {
            "colorbar": {
             "outlinewidth": 0,
             "ticks": ""
            },
            "colorscale": [
             [
              0,
              "#0d0887"
             ],
             [
              0.1111111111111111,
              "#46039f"
             ],
             [
              0.2222222222222222,
              "#7201a8"
             ],
             [
              0.3333333333333333,
              "#9c179e"
             ],
             [
              0.4444444444444444,
              "#bd3786"
             ],
             [
              0.5555555555555556,
              "#d8576b"
             ],
             [
              0.6666666666666666,
              "#ed7953"
             ],
             [
              0.7777777777777778,
              "#fb9f3a"
             ],
             [
              0.8888888888888888,
              "#fdca26"
             ],
             [
              1,
              "#f0f921"
             ]
            ],
            "type": "histogram2dcontour"
           }
          ],
          "mesh3d": [
           {
            "colorbar": {
             "outlinewidth": 0,
             "ticks": ""
            },
            "type": "mesh3d"
           }
          ],
          "parcoords": [
           {
            "line": {
             "colorbar": {
              "outlinewidth": 0,
              "ticks": ""
             }
            },
            "type": "parcoords"
           }
          ],
          "pie": [
           {
            "automargin": true,
            "type": "pie"
           }
          ],
          "scatter": [
           {
            "fillpattern": {
             "fillmode": "overlay",
             "size": 10,
             "solidity": 0.2
            },
            "type": "scatter"
           }
          ],
          "scatter3d": [
           {
            "line": {
             "colorbar": {
              "outlinewidth": 0,
              "ticks": ""
             }
            },
            "marker": {
             "colorbar": {
              "outlinewidth": 0,
              "ticks": ""
             }
            },
            "type": "scatter3d"
           }
          ],
          "scattercarpet": [
           {
            "marker": {
             "colorbar": {
              "outlinewidth": 0,
              "ticks": ""
             }
            },
            "type": "scattercarpet"
           }
          ],
          "scattergeo": [
           {
            "marker": {
             "colorbar": {
              "outlinewidth": 0,
              "ticks": ""
             }
            },
            "type": "scattergeo"
           }
          ],
          "scattergl": [
           {
            "marker": {
             "colorbar": {
              "outlinewidth": 0,
              "ticks": ""
             }
            },
            "type": "scattergl"
           }
          ],
          "scattermapbox": [
           {
            "marker": {
             "colorbar": {
              "outlinewidth": 0,
              "ticks": ""
             }
            },
            "type": "scattermapbox"
           }
          ],
          "scatterpolar": [
           {
            "marker": {
             "colorbar": {
              "outlinewidth": 0,
              "ticks": ""
             }
            },
            "type": "scatterpolar"
           }
          ],
          "scatterpolargl": [
           {
            "marker": {
             "colorbar": {
              "outlinewidth": 0,
              "ticks": ""
             }
            },
            "type": "scatterpolargl"
           }
          ],
          "scatterternary": [
           {
            "marker": {
             "colorbar": {
              "outlinewidth": 0,
              "ticks": ""
             }
            },
            "type": "scatterternary"
           }
          ],
          "surface": [
           {
            "colorbar": {
             "outlinewidth": 0,
             "ticks": ""
            },
            "colorscale": [
             [
              0,
              "#0d0887"
             ],
             [
              0.1111111111111111,
              "#46039f"
             ],
             [
              0.2222222222222222,
              "#7201a8"
             ],
             [
              0.3333333333333333,
              "#9c179e"
             ],
             [
              0.4444444444444444,
              "#bd3786"
             ],
             [
              0.5555555555555556,
              "#d8576b"
             ],
             [
              0.6666666666666666,
              "#ed7953"
             ],
             [
              0.7777777777777778,
              "#fb9f3a"
             ],
             [
              0.8888888888888888,
              "#fdca26"
             ],
             [
              1,
              "#f0f921"
             ]
            ],
            "type": "surface"
           }
          ],
          "table": [
           {
            "cells": {
             "fill": {
              "color": "#EBF0F8"
             },
             "line": {
              "color": "white"
             }
            },
            "header": {
             "fill": {
              "color": "#C8D4E3"
             },
             "line": {
              "color": "white"
             }
            },
            "type": "table"
           }
          ]
         },
         "layout": {
          "annotationdefaults": {
           "arrowcolor": "#2a3f5f",
           "arrowhead": 0,
           "arrowwidth": 1
          },
          "autotypenumbers": "strict",
          "coloraxis": {
           "colorbar": {
            "outlinewidth": 0,
            "ticks": ""
           }
          },
          "colorscale": {
           "diverging": [
            [
             0,
             "#8e0152"
            ],
            [
             0.1,
             "#c51b7d"
            ],
            [
             0.2,
             "#de77ae"
            ],
            [
             0.3,
             "#f1b6da"
            ],
            [
             0.4,
             "#fde0ef"
            ],
            [
             0.5,
             "#f7f7f7"
            ],
            [
             0.6,
             "#e6f5d0"
            ],
            [
             0.7,
             "#b8e186"
            ],
            [
             0.8,
             "#7fbc41"
            ],
            [
             0.9,
             "#4d9221"
            ],
            [
             1,
             "#276419"
            ]
           ],
           "sequential": [
            [
             0,
             "#0d0887"
            ],
            [
             0.1111111111111111,
             "#46039f"
            ],
            [
             0.2222222222222222,
             "#7201a8"
            ],
            [
             0.3333333333333333,
             "#9c179e"
            ],
            [
             0.4444444444444444,
             "#bd3786"
            ],
            [
             0.5555555555555556,
             "#d8576b"
            ],
            [
             0.6666666666666666,
             "#ed7953"
            ],
            [
             0.7777777777777778,
             "#fb9f3a"
            ],
            [
             0.8888888888888888,
             "#fdca26"
            ],
            [
             1,
             "#f0f921"
            ]
           ],
           "sequentialminus": [
            [
             0,
             "#0d0887"
            ],
            [
             0.1111111111111111,
             "#46039f"
            ],
            [
             0.2222222222222222,
             "#7201a8"
            ],
            [
             0.3333333333333333,
             "#9c179e"
            ],
            [
             0.4444444444444444,
             "#bd3786"
            ],
            [
             0.5555555555555556,
             "#d8576b"
            ],
            [
             0.6666666666666666,
             "#ed7953"
            ],
            [
             0.7777777777777778,
             "#fb9f3a"
            ],
            [
             0.8888888888888888,
             "#fdca26"
            ],
            [
             1,
             "#f0f921"
            ]
           ]
          },
          "colorway": [
           "#636efa",
           "#EF553B",
           "#00cc96",
           "#ab63fa",
           "#FFA15A",
           "#19d3f3",
           "#FF6692",
           "#B6E880",
           "#FF97FF",
           "#FECB52"
          ],
          "font": {
           "color": "#2a3f5f"
          },
          "geo": {
           "bgcolor": "white",
           "lakecolor": "white",
           "landcolor": "#E5ECF6",
           "showlakes": true,
           "showland": true,
           "subunitcolor": "white"
          },
          "hoverlabel": {
           "align": "left"
          },
          "hovermode": "closest",
          "mapbox": {
           "style": "light"
          },
          "paper_bgcolor": "white",
          "plot_bgcolor": "#E5ECF6",
          "polar": {
           "angularaxis": {
            "gridcolor": "white",
            "linecolor": "white",
            "ticks": ""
           },
           "bgcolor": "#E5ECF6",
           "radialaxis": {
            "gridcolor": "white",
            "linecolor": "white",
            "ticks": ""
           }
          },
          "scene": {
           "xaxis": {
            "backgroundcolor": "#E5ECF6",
            "gridcolor": "white",
            "gridwidth": 2,
            "linecolor": "white",
            "showbackground": true,
            "ticks": "",
            "zerolinecolor": "white"
           },
           "yaxis": {
            "backgroundcolor": "#E5ECF6",
            "gridcolor": "white",
            "gridwidth": 2,
            "linecolor": "white",
            "showbackground": true,
            "ticks": "",
            "zerolinecolor": "white"
           },
           "zaxis": {
            "backgroundcolor": "#E5ECF6",
            "gridcolor": "white",
            "gridwidth": 2,
            "linecolor": "white",
            "showbackground": true,
            "ticks": "",
            "zerolinecolor": "white"
           }
          },
          "shapedefaults": {
           "line": {
            "color": "#2a3f5f"
           }
          },
          "ternary": {
           "aaxis": {
            "gridcolor": "white",
            "linecolor": "white",
            "ticks": ""
           },
           "baxis": {
            "gridcolor": "white",
            "linecolor": "white",
            "ticks": ""
           },
           "bgcolor": "#E5ECF6",
           "caxis": {
            "gridcolor": "white",
            "linecolor": "white",
            "ticks": ""
           }
          },
          "title": {
           "x": 0.05
          },
          "xaxis": {
           "automargin": true,
           "gridcolor": "white",
           "linecolor": "white",
           "ticks": "",
           "title": {
            "standoff": 15
           },
           "zerolinecolor": "white",
           "zerolinewidth": 2
          },
          "yaxis": {
           "automargin": true,
           "gridcolor": "white",
           "linecolor": "white",
           "ticks": "",
           "title": {
            "standoff": 15
           },
           "zerolinecolor": "white",
           "zerolinewidth": 2
          }
         }
        },
        "title": {
         "text": "Optimization History Plot"
        },
        "xaxis": {
         "title": {
          "text": "Trial"
         }
        },
        "yaxis": {
         "title": {
          "text": "Objective Value"
         }
        }
       }
      }
     },
     "metadata": {},
     "output_type": "display_data"
    }
   ],
   "source": [
    "from optuna.visualization import plot_optimization_history\n",
    "\n",
    "plot_optimization_history(optuna_study)"
   ]
  },
  {
   "cell_type": "markdown",
   "id": "ab413e06-05cd-4814-8115-4c4b92e203eb",
   "metadata": {},
   "source": [
    "### Visualisation of Hyper-parameter Importances"
   ]
  },
  {
   "cell_type": "code",
   "execution_count": 27,
   "id": "d372da64-72e5-4bb7-a3fe-f1c80991e418",
   "metadata": {},
   "outputs": [
    {
     "data": {
      "application/vnd.plotly.v1+json": {
       "config": {
        "plotlyServerURL": "https://plot.ly"
       },
       "data": [
        {
         "cliponaxis": false,
         "hovertemplate": [
          "min_child_samples (IntDistribution): 0.06641434798490742<extra></extra>",
          "num_iterations (IntDistribution): 0.12603173291965583<extra></extra>",
          "learning_rate (FloatDistribution): 0.23513480310889837<extra></extra>",
          "num_leaves (IntDistribution): 0.5724191159865384<extra></extra>"
         ],
         "name": "Objective Value",
         "orientation": "h",
         "text": [
          "0.07",
          "0.13",
          "0.24",
          "0.57"
         ],
         "textposition": "outside",
         "type": "bar",
         "x": [
          0.06641434798490742,
          0.12603173291965583,
          0.23513480310889837,
          0.5724191159865384
         ],
         "y": [
          "min_child_samples",
          "num_iterations",
          "learning_rate",
          "num_leaves"
         ]
        }
       ],
       "layout": {
        "template": {
         "data": {
          "bar": [
           {
            "error_x": {
             "color": "#2a3f5f"
            },
            "error_y": {
             "color": "#2a3f5f"
            },
            "marker": {
             "line": {
              "color": "#E5ECF6",
              "width": 0.5
             },
             "pattern": {
              "fillmode": "overlay",
              "size": 10,
              "solidity": 0.2
             }
            },
            "type": "bar"
           }
          ],
          "barpolar": [
           {
            "marker": {
             "line": {
              "color": "#E5ECF6",
              "width": 0.5
             },
             "pattern": {
              "fillmode": "overlay",
              "size": 10,
              "solidity": 0.2
             }
            },
            "type": "barpolar"
           }
          ],
          "carpet": [
           {
            "aaxis": {
             "endlinecolor": "#2a3f5f",
             "gridcolor": "white",
             "linecolor": "white",
             "minorgridcolor": "white",
             "startlinecolor": "#2a3f5f"
            },
            "baxis": {
             "endlinecolor": "#2a3f5f",
             "gridcolor": "white",
             "linecolor": "white",
             "minorgridcolor": "white",
             "startlinecolor": "#2a3f5f"
            },
            "type": "carpet"
           }
          ],
          "choropleth": [
           {
            "colorbar": {
             "outlinewidth": 0,
             "ticks": ""
            },
            "type": "choropleth"
           }
          ],
          "contour": [
           {
            "colorbar": {
             "outlinewidth": 0,
             "ticks": ""
            },
            "colorscale": [
             [
              0,
              "#0d0887"
             ],
             [
              0.1111111111111111,
              "#46039f"
             ],
             [
              0.2222222222222222,
              "#7201a8"
             ],
             [
              0.3333333333333333,
              "#9c179e"
             ],
             [
              0.4444444444444444,
              "#bd3786"
             ],
             [
              0.5555555555555556,
              "#d8576b"
             ],
             [
              0.6666666666666666,
              "#ed7953"
             ],
             [
              0.7777777777777778,
              "#fb9f3a"
             ],
             [
              0.8888888888888888,
              "#fdca26"
             ],
             [
              1,
              "#f0f921"
             ]
            ],
            "type": "contour"
           }
          ],
          "contourcarpet": [
           {
            "colorbar": {
             "outlinewidth": 0,
             "ticks": ""
            },
            "type": "contourcarpet"
           }
          ],
          "heatmap": [
           {
            "colorbar": {
             "outlinewidth": 0,
             "ticks": ""
            },
            "colorscale": [
             [
              0,
              "#0d0887"
             ],
             [
              0.1111111111111111,
              "#46039f"
             ],
             [
              0.2222222222222222,
              "#7201a8"
             ],
             [
              0.3333333333333333,
              "#9c179e"
             ],
             [
              0.4444444444444444,
              "#bd3786"
             ],
             [
              0.5555555555555556,
              "#d8576b"
             ],
             [
              0.6666666666666666,
              "#ed7953"
             ],
             [
              0.7777777777777778,
              "#fb9f3a"
             ],
             [
              0.8888888888888888,
              "#fdca26"
             ],
             [
              1,
              "#f0f921"
             ]
            ],
            "type": "heatmap"
           }
          ],
          "heatmapgl": [
           {
            "colorbar": {
             "outlinewidth": 0,
             "ticks": ""
            },
            "colorscale": [
             [
              0,
              "#0d0887"
             ],
             [
              0.1111111111111111,
              "#46039f"
             ],
             [
              0.2222222222222222,
              "#7201a8"
             ],
             [
              0.3333333333333333,
              "#9c179e"
             ],
             [
              0.4444444444444444,
              "#bd3786"
             ],
             [
              0.5555555555555556,
              "#d8576b"
             ],
             [
              0.6666666666666666,
              "#ed7953"
             ],
             [
              0.7777777777777778,
              "#fb9f3a"
             ],
             [
              0.8888888888888888,
              "#fdca26"
             ],
             [
              1,
              "#f0f921"
             ]
            ],
            "type": "heatmapgl"
           }
          ],
          "histogram": [
           {
            "marker": {
             "pattern": {
              "fillmode": "overlay",
              "size": 10,
              "solidity": 0.2
             }
            },
            "type": "histogram"
           }
          ],
          "histogram2d": [
           {
            "colorbar": {
             "outlinewidth": 0,
             "ticks": ""
            },
            "colorscale": [
             [
              0,
              "#0d0887"
             ],
             [
              0.1111111111111111,
              "#46039f"
             ],
             [
              0.2222222222222222,
              "#7201a8"
             ],
             [
              0.3333333333333333,
              "#9c179e"
             ],
             [
              0.4444444444444444,
              "#bd3786"
             ],
             [
              0.5555555555555556,
              "#d8576b"
             ],
             [
              0.6666666666666666,
              "#ed7953"
             ],
             [
              0.7777777777777778,
              "#fb9f3a"
             ],
             [
              0.8888888888888888,
              "#fdca26"
             ],
             [
              1,
              "#f0f921"
             ]
            ],
            "type": "histogram2d"
           }
          ],
          "histogram2dcontour": [
           {
            "colorbar": {
             "outlinewidth": 0,
             "ticks": ""
            },
            "colorscale": [
             [
              0,
              "#0d0887"
             ],
             [
              0.1111111111111111,
              "#46039f"
             ],
             [
              0.2222222222222222,
              "#7201a8"
             ],
             [
              0.3333333333333333,
              "#9c179e"
             ],
             [
              0.4444444444444444,
              "#bd3786"
             ],
             [
              0.5555555555555556,
              "#d8576b"
             ],
             [
              0.6666666666666666,
              "#ed7953"
             ],
             [
              0.7777777777777778,
              "#fb9f3a"
             ],
             [
              0.8888888888888888,
              "#fdca26"
             ],
             [
              1,
              "#f0f921"
             ]
            ],
            "type": "histogram2dcontour"
           }
          ],
          "mesh3d": [
           {
            "colorbar": {
             "outlinewidth": 0,
             "ticks": ""
            },
            "type": "mesh3d"
           }
          ],
          "parcoords": [
           {
            "line": {
             "colorbar": {
              "outlinewidth": 0,
              "ticks": ""
             }
            },
            "type": "parcoords"
           }
          ],
          "pie": [
           {
            "automargin": true,
            "type": "pie"
           }
          ],
          "scatter": [
           {
            "fillpattern": {
             "fillmode": "overlay",
             "size": 10,
             "solidity": 0.2
            },
            "type": "scatter"
           }
          ],
          "scatter3d": [
           {
            "line": {
             "colorbar": {
              "outlinewidth": 0,
              "ticks": ""
             }
            },
            "marker": {
             "colorbar": {
              "outlinewidth": 0,
              "ticks": ""
             }
            },
            "type": "scatter3d"
           }
          ],
          "scattercarpet": [
           {
            "marker": {
             "colorbar": {
              "outlinewidth": 0,
              "ticks": ""
             }
            },
            "type": "scattercarpet"
           }
          ],
          "scattergeo": [
           {
            "marker": {
             "colorbar": {
              "outlinewidth": 0,
              "ticks": ""
             }
            },
            "type": "scattergeo"
           }
          ],
          "scattergl": [
           {
            "marker": {
             "colorbar": {
              "outlinewidth": 0,
              "ticks": ""
             }
            },
            "type": "scattergl"
           }
          ],
          "scattermapbox": [
           {
            "marker": {
             "colorbar": {
              "outlinewidth": 0,
              "ticks": ""
             }
            },
            "type": "scattermapbox"
           }
          ],
          "scatterpolar": [
           {
            "marker": {
             "colorbar": {
              "outlinewidth": 0,
              "ticks": ""
             }
            },
            "type": "scatterpolar"
           }
          ],
          "scatterpolargl": [
           {
            "marker": {
             "colorbar": {
              "outlinewidth": 0,
              "ticks": ""
             }
            },
            "type": "scatterpolargl"
           }
          ],
          "scatterternary": [
           {
            "marker": {
             "colorbar": {
              "outlinewidth": 0,
              "ticks": ""
             }
            },
            "type": "scatterternary"
           }
          ],
          "surface": [
           {
            "colorbar": {
             "outlinewidth": 0,
             "ticks": ""
            },
            "colorscale": [
             [
              0,
              "#0d0887"
             ],
             [
              0.1111111111111111,
              "#46039f"
             ],
             [
              0.2222222222222222,
              "#7201a8"
             ],
             [
              0.3333333333333333,
              "#9c179e"
             ],
             [
              0.4444444444444444,
              "#bd3786"
             ],
             [
              0.5555555555555556,
              "#d8576b"
             ],
             [
              0.6666666666666666,
              "#ed7953"
             ],
             [
              0.7777777777777778,
              "#fb9f3a"
             ],
             [
              0.8888888888888888,
              "#fdca26"
             ],
             [
              1,
              "#f0f921"
             ]
            ],
            "type": "surface"
           }
          ],
          "table": [
           {
            "cells": {
             "fill": {
              "color": "#EBF0F8"
             },
             "line": {
              "color": "white"
             }
            },
            "header": {
             "fill": {
              "color": "#C8D4E3"
             },
             "line": {
              "color": "white"
             }
            },
            "type": "table"
           }
          ]
         },
         "layout": {
          "annotationdefaults": {
           "arrowcolor": "#2a3f5f",
           "arrowhead": 0,
           "arrowwidth": 1
          },
          "autotypenumbers": "strict",
          "coloraxis": {
           "colorbar": {
            "outlinewidth": 0,
            "ticks": ""
           }
          },
          "colorscale": {
           "diverging": [
            [
             0,
             "#8e0152"
            ],
            [
             0.1,
             "#c51b7d"
            ],
            [
             0.2,
             "#de77ae"
            ],
            [
             0.3,
             "#f1b6da"
            ],
            [
             0.4,
             "#fde0ef"
            ],
            [
             0.5,
             "#f7f7f7"
            ],
            [
             0.6,
             "#e6f5d0"
            ],
            [
             0.7,
             "#b8e186"
            ],
            [
             0.8,
             "#7fbc41"
            ],
            [
             0.9,
             "#4d9221"
            ],
            [
             1,
             "#276419"
            ]
           ],
           "sequential": [
            [
             0,
             "#0d0887"
            ],
            [
             0.1111111111111111,
             "#46039f"
            ],
            [
             0.2222222222222222,
             "#7201a8"
            ],
            [
             0.3333333333333333,
             "#9c179e"
            ],
            [
             0.4444444444444444,
             "#bd3786"
            ],
            [
             0.5555555555555556,
             "#d8576b"
            ],
            [
             0.6666666666666666,
             "#ed7953"
            ],
            [
             0.7777777777777778,
             "#fb9f3a"
            ],
            [
             0.8888888888888888,
             "#fdca26"
            ],
            [
             1,
             "#f0f921"
            ]
           ],
           "sequentialminus": [
            [
             0,
             "#0d0887"
            ],
            [
             0.1111111111111111,
             "#46039f"
            ],
            [
             0.2222222222222222,
             "#7201a8"
            ],
            [
             0.3333333333333333,
             "#9c179e"
            ],
            [
             0.4444444444444444,
             "#bd3786"
            ],
            [
             0.5555555555555556,
             "#d8576b"
            ],
            [
             0.6666666666666666,
             "#ed7953"
            ],
            [
             0.7777777777777778,
             "#fb9f3a"
            ],
            [
             0.8888888888888888,
             "#fdca26"
            ],
            [
             1,
             "#f0f921"
            ]
           ]
          },
          "colorway": [
           "#636efa",
           "#EF553B",
           "#00cc96",
           "#ab63fa",
           "#FFA15A",
           "#19d3f3",
           "#FF6692",
           "#B6E880",
           "#FF97FF",
           "#FECB52"
          ],
          "font": {
           "color": "#2a3f5f"
          },
          "geo": {
           "bgcolor": "white",
           "lakecolor": "white",
           "landcolor": "#E5ECF6",
           "showlakes": true,
           "showland": true,
           "subunitcolor": "white"
          },
          "hoverlabel": {
           "align": "left"
          },
          "hovermode": "closest",
          "mapbox": {
           "style": "light"
          },
          "paper_bgcolor": "white",
          "plot_bgcolor": "#E5ECF6",
          "polar": {
           "angularaxis": {
            "gridcolor": "white",
            "linecolor": "white",
            "ticks": ""
           },
           "bgcolor": "#E5ECF6",
           "radialaxis": {
            "gridcolor": "white",
            "linecolor": "white",
            "ticks": ""
           }
          },
          "scene": {
           "xaxis": {
            "backgroundcolor": "#E5ECF6",
            "gridcolor": "white",
            "gridwidth": 2,
            "linecolor": "white",
            "showbackground": true,
            "ticks": "",
            "zerolinecolor": "white"
           },
           "yaxis": {
            "backgroundcolor": "#E5ECF6",
            "gridcolor": "white",
            "gridwidth": 2,
            "linecolor": "white",
            "showbackground": true,
            "ticks": "",
            "zerolinecolor": "white"
           },
           "zaxis": {
            "backgroundcolor": "#E5ECF6",
            "gridcolor": "white",
            "gridwidth": 2,
            "linecolor": "white",
            "showbackground": true,
            "ticks": "",
            "zerolinecolor": "white"
           }
          },
          "shapedefaults": {
           "line": {
            "color": "#2a3f5f"
           }
          },
          "ternary": {
           "aaxis": {
            "gridcolor": "white",
            "linecolor": "white",
            "ticks": ""
           },
           "baxis": {
            "gridcolor": "white",
            "linecolor": "white",
            "ticks": ""
           },
           "bgcolor": "#E5ECF6",
           "caxis": {
            "gridcolor": "white",
            "linecolor": "white",
            "ticks": ""
           }
          },
          "title": {
           "x": 0.05
          },
          "xaxis": {
           "automargin": true,
           "gridcolor": "white",
           "linecolor": "white",
           "ticks": "",
           "title": {
            "standoff": 15
           },
           "zerolinecolor": "white",
           "zerolinewidth": 2
          },
          "yaxis": {
           "automargin": true,
           "gridcolor": "white",
           "linecolor": "white",
           "ticks": "",
           "title": {
            "standoff": 15
           },
           "zerolinecolor": "white",
           "zerolinewidth": 2
          }
         }
        },
        "title": {
         "text": "Hyperparameter Importances"
        },
        "xaxis": {
         "title": {
          "text": "Hyperparameter Importance"
         }
        },
        "yaxis": {
         "title": {
          "text": "Hyperparameter"
         }
        }
       }
      }
     },
     "metadata": {},
     "output_type": "display_data"
    }
   ],
   "source": [
    "from optuna.visualization import plot_param_importances\n",
    "\n",
    "plot_param_importances(optuna_study)"
   ]
  },
  {
   "cell_type": "markdown",
   "id": "73733bb5",
   "metadata": {},
   "source": [
    "### Discussion of Results"
   ]
  },
  {
   "cell_type": "markdown",
   "id": "029d71f9",
   "metadata": {},
   "source": [
    "In the prior phase of this project, the highest performing model for churn prediction was a random forest with an AUC score of 0.77. Using the same train test split on the same data, the Light GBM (L-GBM) has achieved a maximum of 0.89, outperforming the random forest by a significant margin of 12%. It is also evident that the L-GBM benefits significantly from having all available features, with the untuned model outperforming across the board, but importantly specifically with respect to recall and AUC, when it had all the features compared with the 6 features selected in phase 2 of the project using Random Forest Importance. It can be concluded that the 7 features excluded through the feature selection process contain meaningful information which is useful for a model as complex as a L-GBM in differentiating churners from non-churners. Likewise, it can also be concluded that the data purtaining to telecommunication customers has very complex and meaningful relationships between the descriptive features and target feature, which has resulted in a sophisticated, boosted ensemble model meaningfully outperforming the more simple random forest ensemble model tested in phase 2 of the project. "
   ]
  }
 ],
 "metadata": {
  "kernelspec": {
   "display_name": "Python 3 (ipykernel)",
   "language": "python",
   "name": "python3"
  },
  "language_info": {
   "codemirror_mode": {
    "name": "ipython",
    "version": 3
   },
   "file_extension": ".py",
   "mimetype": "text/x-python",
   "name": "python",
   "nbconvert_exporter": "python",
   "pygments_lexer": "ipython3",
   "version": "3.8.18"
  }
 },
 "nbformat": 4,
 "nbformat_minor": 5
}
